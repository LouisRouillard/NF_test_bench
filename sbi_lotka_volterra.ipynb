{
 "cells": [
  {
   "cell_type": "code",
   "execution_count": 1,
   "metadata": {},
   "outputs": [],
   "source": [
    "import numpy as np\n",
    "import matplotlib.pyplot as plt\n",
    "import torch\n",
    "\n",
    "import sbi.utils as utils\n",
    "from sbi.inference import infer"
   ]
  },
  {
   "cell_type": "markdown",
   "metadata": {},
   "source": [
    "## Manual embedding"
   ]
  },
  {
   "cell_type": "code",
   "execution_count": 2,
   "metadata": {},
   "outputs": [],
   "source": [
    "N = 200\n",
    "\n",
    "def f1(x, y, theta):\n",
    "    a = theta[0]\n",
    "    b = theta[1]\n",
    "    return a * x - b * x * y\n",
    "\n",
    "def f2(x, y, theta):\n",
    "    c = theta[2]\n",
    "    d = theta[3]\n",
    "    return -c * y + d * x * y\n",
    "\n",
    "def LV_EE(N, Y0, theta):\n",
    "    dt = 0.5\n",
    "    H = np.zeros(N)\n",
    "    P = np.zeros(N)\n",
    "    H[0] = Y0[0]\n",
    "    P[0] = Y0[1]\n",
    "    for n in range(N-1):\n",
    "        H[n+1] = H[n] + dt * f1(H[n], P[n], theta) + np.random.randn() * 10\n",
    "        P[n+1] = P[n] + dt * f2(H[n], P[n], theta) + np.random.randn() * 10\n",
    "    return H, P\n",
    "\n",
    "def simulator(theta):\n",
    "    H0 = 200\n",
    "    P0 = 100\n",
    "\n",
    "    H, P = LV_EE(N ,[H0, P0], np.array(theta))\n",
    "    \n",
    "    mean1 = H.mean()\n",
    "    mean2 = P.mean()\n",
    "    var1 = np.log(H.var())\n",
    "    var2 = np.log(P.var())\n",
    "    \n",
    "    stats1 = np.array([mean1, mean2, var1, var2])\n",
    "    \n",
    "    autocor1 = np.correlate(H, H, mode=\"full\")\n",
    "    autocor1 = autocor1[len(autocor1)//2:] / np.max(np.abs(autocor1))\n",
    "    \n",
    "    autocor2 = np.correlate(P, P, mode=\"full\")\n",
    "    autocor2 = autocor1[len(autocor2)//2:] / np.max(np.abs(autocor2))\n",
    "    \n",
    "    cross_cor = np.correlate(H, P, mode=\"full\")\n",
    "    cross_cor = cross_cor[len(cross_cor)//2:] / np.max(np.abs(cross_cor))\n",
    "        \n",
    "    return np.concatenate([stats1, autocor1[1:5], autocor2[1:5], cross_cor[1:5]])"
   ]
  },
  {
   "cell_type": "code",
   "execution_count": 3,
   "metadata": {},
   "outputs": [
    {
     "data": {
      "text/plain": [
       "array([1.41001534e+03, 3.20321597e+03, 1.53893084e+01, 1.62388180e+01,\n",
       "       9.98367506e-01, 9.93555132e-01, 9.85652666e-01, 9.74807063e-01,\n",
       "       2.47134154e-01, 2.21881269e-01, 1.98484844e-01, 1.76982062e-01])"
      ]
     },
     "execution_count": 3,
     "metadata": {},
     "output_type": "execute_result"
    }
   ],
   "source": [
    "a=0.1\n",
    "b=5e-5\n",
    "c=0.04\n",
    "d=b\n",
    "\n",
    "theta = np.array([a, b, c, d])\n",
    "\n",
    "observations = simulator(theta)\n",
    "observations"
   ]
  },
  {
   "cell_type": "code",
   "execution_count": 4,
   "metadata": {},
   "outputs": [],
   "source": [
    "num_dim = 4\n",
    "prior = utils.BoxUniform(low=torch.zeros(num_dim), high=torch.ones(num_dim) * torch.tensor([0.5, 1e-4, 0.5, 1e-4]))"
   ]
  },
  {
   "cell_type": "code",
   "execution_count": 5,
   "metadata": {},
   "outputs": [
    {
     "name": "stderr",
     "output_type": "stream",
     "text": [
      "/home/benoit/anaconda3/lib/python3.7/site-packages/ipykernel_launcher.py:6: RuntimeWarning: overflow encountered in double_scalars\n",
      "  \n",
      "/home/benoit/anaconda3/lib/python3.7/site-packages/ipykernel_launcher.py:11: RuntimeWarning: overflow encountered in double_scalars\n",
      "  # This is added back by InteractiveShellApp.init_path()\n",
      "/home/benoit/anaconda3/lib/python3.7/site-packages/ipykernel_launcher.py:11: RuntimeWarning: invalid value encountered in double_scalars\n",
      "  # This is added back by InteractiveShellApp.init_path()\n"
     ]
    },
    {
     "data": {
      "application/vnd.jupyter.widget-view+json": {
       "model_id": "393cadc46a1944e9ab559f5d0faab567",
       "version_major": 2,
       "version_minor": 0
      },
      "text/plain": [
       "Running 1000 simulations.:   0%|          | 0/1000 [00:00<?, ?it/s]"
      ]
     },
     "metadata": {},
     "output_type": "display_data"
    },
    {
     "name": "stderr",
     "output_type": "stream",
     "text": [
      "/home/benoit/anaconda3/lib/python3.7/site-packages/numpy/core/_methods.py:202: RuntimeWarning: invalid value encountered in subtract\n",
      "  x = asanyarray(arr - arrmean)\n",
      "/home/benoit/anaconda3/lib/python3.7/site-packages/ipykernel_launcher.py:38: RuntimeWarning: invalid value encountered in true_divide\n",
      "/home/benoit/anaconda3/lib/python3.7/site-packages/ipykernel_launcher.py:44: RuntimeWarning: invalid value encountered in true_divide\n",
      "/home/benoit/anaconda3/lib/python3.7/site-packages/numpy/core/_methods.py:205: RuntimeWarning: overflow encountered in multiply\n",
      "  x = um.multiply(x, x, out=x)\n",
      "WARNING:root:Found 559 NaN simulations and 16 Inf simulations. They will be excluded from training.\n"
     ]
    },
    {
     "name": "stdout",
     "output_type": "stream",
     "text": [
      "Neural network successfully converged after 153 epochs.\n"
     ]
    }
   ],
   "source": [
    "posterior = infer(simulator, prior, method='SNPE', num_simulations=1000)"
   ]
  },
  {
   "cell_type": "code",
   "execution_count": 6,
   "metadata": {},
   "outputs": [
    {
     "data": {
      "application/vnd.jupyter.widget-view+json": {
       "model_id": "dcfbe32e82bd484093aea4a5536c1501",
       "version_major": 2,
       "version_minor": 0
      },
      "text/plain": [
       "Drawing 5000 posterior samples:   0%|          | 0/5000 [00:00<?, ?it/s]"
      ]
     },
     "metadata": {},
     "output_type": "display_data"
    },
    {
     "data": {
      "image/png": "[encoded data removed]",
      "text/plain": [
       "<Figure size 432x432 with 16 Axes>"
      ]
     },
     "metadata": {
      "needs_background": "light"
     },
     "output_type": "display_data"
    }
   ],
   "source": [
    "observation = simulator(theta)\n",
    "samples = posterior.sample((5000,), x=observation)\n",
    "log_probability = posterior.log_prob(samples, x=observation)\n",
    "_ = utils.pairplot(samples,\n",
    "                   limits=[[0,0.5],[0,1e-4],[0,0.5], [0, 2e-4]],\n",
    "                   points=theta,\n",
    "                   points_offdiag={'markersize': 6},\n",
    "                   points_colors='r',\n",
    "                   fig_size=(6,6))"
   ]
  },
  {
   "cell_type": "markdown",
   "metadata": {},
   "source": [
    "## Learned embedding"
   ]
  },
  {
   "cell_type": "code",
   "execution_count": 7,
   "metadata": {},
   "outputs": [],
   "source": [
    "import torch.nn as nn\n",
    "\n",
    "embedding = nn.Sequential(\n",
    "                nn.Conv1d(2, 16, kernel_size=5),\n",
    "                nn.ReLU(),\n",
    "                nn.Conv1d(16, 16, kernel_size=5),\n",
    "                nn.ReLU(),\n",
    "                nn.Flatten(),\n",
    "                nn.Linear(3072, 20)\n",
    "            )"
   ]
  },
  {
   "cell_type": "code",
   "execution_count": 8,
   "metadata": {},
   "outputs": [],
   "source": [
    "def simulator_ts(theta):\n",
    "    H0 = 200\n",
    "    P0 = 100\n",
    "\n",
    "    H, P = LV_EE(N ,[H0, P0], np.array(theta))\n",
    "        \n",
    "    return torch.tensor(np.concatenate([H.reshape(1, -1), P.reshape(1, -1)], axis=0)[None, :, :], dtype=torch.float)"
   ]
  },
  {
   "cell_type": "code",
   "execution_count": 9,
   "metadata": {},
   "outputs": [
    {
     "data": {
      "application/vnd.jupyter.widget-view+json": {
       "model_id": "4335fc2ab24843d78c6100d046e7cf53",
       "version_major": 2,
       "version_minor": 0
      },
      "text/plain": [
       "Running 10000 simulations.:   0%|          | 0/10000 [00:00<?, ?it/s]"
      ]
     },
     "metadata": {},
     "output_type": "display_data"
    },
    {
     "name": "stderr",
     "output_type": "stream",
     "text": [
      "/home/benoit/anaconda3/lib/python3.7/site-packages/ipykernel_launcher.py:6: RuntimeWarning: overflow encountered in double_scalars\n",
      "  \n",
      "/home/benoit/anaconda3/lib/python3.7/site-packages/ipykernel_launcher.py:11: RuntimeWarning: overflow encountered in double_scalars\n",
      "  # This is added back by InteractiveShellApp.init_path()\n",
      "/home/benoit/anaconda3/lib/python3.7/site-packages/ipykernel_launcher.py:11: RuntimeWarning: invalid value encountered in double_scalars\n",
      "  # This is added back by InteractiveShellApp.init_path()\n",
      "WARNING:root:Found 5475 NaN simulations and 5570 Inf simulations. They will be excluded from training.\n"
     ]
    },
    {
     "name": "stdout",
     "output_type": "stream",
     "text": [
      "Neural network successfully converged after 49 epochs.\n"
     ]
    }
   ],
   "source": [
    "from sbi import utils\n",
    "from sbi import inference\n",
    "from sbi.inference import SNPE, simulate_for_sbi, prepare_for_sbi\n",
    "\n",
    "# make a SBI-wrapper on the simulator object for compatibility\n",
    "simulator_wrapper, prior = prepare_for_sbi(simulator_ts, prior)\n",
    "\n",
    "# instantiate the neural density estimator\n",
    "neural_posterior = utils.posterior_nn(model='maf', \n",
    "                                      embedding_net=embedding)\n",
    "\n",
    "# setup the inference procedure with the SNPE-C procedure\n",
    "inference = SNPE(prior=prior, density_estimator=neural_posterior)\n",
    "\n",
    "# run the inference procedure on one round and 10000 simulated data points\n",
    "theta_samples, x = simulate_for_sbi(simulator_wrapper, prior, num_simulations=10000)\n",
    "density_estimator = inference.append_simulations(theta_samples, x).train()\n",
    "posterior = inference.build_posterior(density_estimator)"
   ]
  },
  {
   "cell_type": "code",
   "execution_count": 10,
   "metadata": {},
   "outputs": [
    {
     "data": {
      "application/vnd.jupyter.widget-view+json": {
       "model_id": "c3f055013b3a4d25b1d23ce09a1aabd8",
       "version_major": 2,
       "version_minor": 0
      },
      "text/plain": [
       "Drawing 5000 posterior samples:   0%|          | 0/5000 [00:00<?, ?it/s]"
      ]
     },
     "metadata": {},
     "output_type": "display_data"
    },
    {
     "data": {
      "image/png": "[encoded data removed]",
      "text/plain": [
       "<Figure size 432x432 with 16 Axes>"
      ]
     },
     "metadata": {
      "needs_background": "light"
     },
     "output_type": "display_data"
    }
   ],
   "source": [
    "observation = simulator_ts(theta)\n",
    "samples = posterior.sample((5000,), x=observation)\n",
    "log_probability = posterior.log_prob(samples, x=observation)\n",
    "_ = utils.pairplot(samples,\n",
    "                   limits=[[0,0.5],[0,1e-4],[0,0.5], [0, 2e-4]],\n",
    "                   points=theta,\n",
    "                   points_offdiag={'markersize': 6},\n",
    "                   points_colors='r',\n",
    "                   fig_size=(6,6))"
   ]
  },
  {
   "cell_type": "code",
   "execution_count": null,
   "metadata": {},
   "outputs": [],
   "source": []
  }
 ],
 "metadata": {
  "kernelspec": {
   "display_name": "Python 3",
   "language": "python",
   "name": "python3"
  },
  "language_info": {
   "codemirror_mode": {
    "name": "ipython",
    "version": 3
   },
   "file_extension": ".py",
   "mimetype": "text/x-python",
   "name": "python",
   "nbconvert_exporter": "python",
   "pygments_lexer": "ipython3",
   "version": "3.7.9"
  }
 },
 "nbformat": 4,
 "nbformat_minor": 4
}
