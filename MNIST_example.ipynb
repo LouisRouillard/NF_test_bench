{
 "metadata": {
  "language_info": {
   "codemirror_mode": {
    "name": "ipython",
    "version": 3
   },
   "file_extension": ".py",
   "mimetype": "text/x-python",
   "name": "python",
   "nbconvert_exporter": "python",
   "pygments_lexer": "ipython3",
   "version": "3.8.0-final"
  },
  "orig_nbformat": 2,
  "kernelspec": {
   "name": "python3",
   "display_name": "Python 3.8.0 64-bit ('NF-test-bench-env')",
   "metadata": {
    "interpreter": {
     "hash": "5a93b0a2e926ea307506aa4025cc31f0d7c65a1b978b98054d63497cfad8023b"
    }
   }
  }
 },
 "nbformat": 4,
 "nbformat_minor": 2,
 "cells": [
  {
   "source": [
    "# Imports"
   ],
   "cell_type": "markdown",
   "metadata": {}
  },
  {
   "cell_type": "code",
   "execution_count": 1,
   "metadata": {},
   "outputs": [],
   "source": [
    "import os\n",
    "\n",
    "import numpy as np\n",
    "import pyro\n",
    "from tqdm.auto import trange\n",
    "import torch\n",
    "import torch.distributions as td\n",
    "import torch.nn as nn\n",
    "import torch.nn.functional as F\n",
    "import torchvision\n",
    "from matplotlib import pyplot as plt\n",
    "\n",
    "np.random.seed(12345)\n",
    "torch.manual_seed(12345)\n",
    "\n",
    "device = torch.device(\"cuda:0\" if torch.cuda.is_available() else \"cpu\")"
   ]
  },
  {
   "source": [
    "# MNIST data loading"
   ],
   "cell_type": "markdown",
   "metadata": {}
  },
  {
   "source": [
    "Data will be stored under ./data/MNIST"
   ],
   "cell_type": "markdown",
   "metadata": {}
  },
  {
   "cell_type": "code",
   "execution_count": 2,
   "metadata": {},
   "outputs": [],
   "source": [
    "os.makedirs(\"data\", exist_ok=True)"
   ]
  },
  {
   "cell_type": "code",
   "execution_count": 3,
   "metadata": {},
   "outputs": [],
   "source": [
    "transform = torchvision.transforms.Compose(\n",
    "    [\n",
    "        torchvision.transforms.ToTensor(),\n",
    "        torchvision.transforms.Lambda(lambd=torch.flatten)\n",
    "    ]\n",
    ")\n",
    "\n",
    "mnist_train = torchvision.datasets.MNIST(root=\"data\", download=True, transform=transform, train=True)\n",
    "mnist_test = torchvision.datasets.MNIST(root=\"data\", download=True, transform=transform, train=False)"
   ]
  },
  {
   "source": [
    "Sanity check for the data:"
   ],
   "cell_type": "markdown",
   "metadata": {}
  },
  {
   "cell_type": "code",
   "execution_count": 4,
   "metadata": {},
   "outputs": [
    {
     "output_type": "display_data",
     "data": {
      "text/plain": "<Figure size 432x288 with 1 Axes>",
      "image/svg+xml": "<?xml version=\"1.0\" encoding=\"utf-8\" standalone=\"no\"?>\n<!DOCTYPE svg PUBLIC \"-//W3C//DTD SVG 1.1//EN\"\n  \"http://www.w3.org/Graphics/SVG/1.1/DTD/svg11.dtd\">\n<!-- Created with matplotlib (https://matplotlib.org/) -->\n<svg height=\"231.84pt\" version=\"1.1\" viewBox=\"0 0 231.84 231.84\" width=\"231.84pt\" xmlns=\"http://www.w3.org/2000/svg\" xmlns:xlink=\"http://www.w3.org/1999/xlink\">\n <metadata>\n  <rdf:RDF xmlns:cc=\"http://creativecommons.org/ns#\" xmlns:dc=\"http://purl.org/dc/elements/1.1/\" xmlns:rdf=\"http://www.w3.org/1999/02/22-rdf-syntax-ns#\">\n   <cc:Work>\n    <dc:type rdf:resource=\"http://purl.org/dc/dcmitype/StillImage\"/>\n    <dc:date>2021-01-15T15:05:07.418767</dc:date>\n    <dc:format>image/svg+xml</dc:format>\n    <dc:creator>\n     <cc:Agent>\n      <dc:title>Matplotlib v3.3.3, https://matplotlib.org/</dc:title>\n     </cc:Agent>\n    </dc:creator>\n   </cc:Work>\n  </rdf:RDF>\n </metadata>\n <defs>\n  <style type=\"text/css\">*{stroke-linecap:butt;stroke-linejoin:round;}</style>\n </defs>\n <g id=\"figure_1\">\n  <g id=\"patch_1\">\n   <path d=\"M 0 231.84 \nL 231.84 231.84 \nL 231.84 0 \nL 0 0 \nz\n\" style=\"fill:none;\"/>\n  </g>\n  <g id=\"axes_1\">\n   <g clip-path=\"url(#pfbbb6271b0)\">\n    <image height=\"218\" id=\"image9b525239c7\" transform=\"scale(1 -1)translate(0 -218)\" width=\"218\" x=\"7.2\" xlink:href=\"data:image/png;base64,\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\" y=\"-6.64\"/>\n   </g>\n  </g>\n </g>\n <defs>\n  <clipPath id=\"pfbbb6271b0\">\n   <rect height=\"217.44\" width=\"217.44\" x=\"7.2\" y=\"7.2\"/>\n  </clipPath>\n </defs>\n</svg>\n",
      "image/png": "[encoded data removed]"
     },
     "metadata": {
      "needs_background": "light"
     }
    },
    {
     "output_type": "display_data",
     "data": {
      "text/plain": "<Figure size 432x288 with 1 Axes>",
      "image/svg+xml": "<?xml version=\"1.0\" encoding=\"utf-8\" standalone=\"no\"?>\n<!DOCTYPE svg PUBLIC \"-//W3C//DTD SVG 1.1//EN\"\n  \"http://www.w3.org/Graphics/SVG/1.1/DTD/svg11.dtd\">\n<!-- Created with matplotlib (https://matplotlib.org/) -->\n<svg height=\"231.84pt\" version=\"1.1\" viewBox=\"0 0 231.84 231.84\" width=\"231.84pt\" xmlns=\"http://www.w3.org/2000/svg\" xmlns:xlink=\"http://www.w3.org/1999/xlink\">\n <metadata>\n  <rdf:RDF xmlns:cc=\"http://creativecommons.org/ns#\" xmlns:dc=\"http://purl.org/dc/elements/1.1/\" xmlns:rdf=\"http://www.w3.org/1999/02/22-rdf-syntax-ns#\">\n   <cc:Work>\n    <dc:type rdf:resource=\"http://purl.org/dc/dcmitype/StillImage\"/>\n    <dc:date>2021-01-15T15:05:07.515727</dc:date>\n    <dc:format>image/svg+xml</dc:format>\n    <dc:creator>\n     <cc:Agent>\n      <dc:title>Matplotlib v3.3.3, https://matplotlib.org/</dc:title>\n     </cc:Agent>\n    </dc:creator>\n   </cc:Work>\n  </rdf:RDF>\n </metadata>\n <defs>\n  <style type=\"text/css\">*{stroke-linecap:butt;stroke-linejoin:round;}</style>\n </defs>\n <g id=\"figure_1\">\n  <g id=\"patch_1\">\n   <path d=\"M 0 231.84 \nL 231.84 231.84 \nL 231.84 0 \nL 0 0 \nz\n\" style=\"fill:none;\"/>\n  </g>\n  <g id=\"axes_1\">\n   <g clip-path=\"url(#pb094a4ffbf)\">\n    <image height=\"218\" id=\"imagee8ee0372e6\" transform=\"scale(1 -1)translate(0 -218)\" width=\"218\" x=\"7.2\" xlink:href=\"data:image/png;base64,\niVBORw0KGgoAAAANSUhEUgAAANoAAADaCAYAAADAHVzbAAAGlUlEQVR4nO3dS4jP+x/H8fFPdFIsrEazYGHLSC6JUZayk2uxZOOSa6lhNUuFLKYpWUi510hIipTbwqWsrdwlC5fU0PBfnzq/9/ecYV5mxuOxffXt9z0dzz41337f37i2trYfbcCw+t/vvgH4EwgNAoQGAUKDAKFBgNAgQGgQIDQIEBoECA0ChAYBQoMAoUGA0CBAaBAgNAgQGgQIDQKEBgFCgwChQYDQIEBoECA0CBAaBAgNAoQGAUKDAKFBgNAgYPzvvoHh0t7eXu6bN28u9+7u7nIfN25cuf/40frXsI4cOVJe29vbW+5Pnz4td0YeJxoECA0ChAYBQoMAoUGA0CBAaBAwrq2trfUDnxGuo6Oj5Xbu3Lny2nnz5v3UZ//Mc7Qm79+/L/fTp0+X+/bt24f82QwPJxoECA0ChAYBQoMAoUGA0CBAaBAwqp+jrVq1quV26tSpYf3st2/flvvHjx9bbjNnzvzVt/M39+7dK/ebN2+23A4cOPCrb4c2JxpECA0ChAYBQoMAoUGA0CBAaBAwZt/r2GRwcLDc+/r6yv348ePlXn2nbOHCheW1GzZsKPfZs2eX+6JFi8q9+h5f0zO+pndS3r9/v9z/VE40CBAaBAgNAoQGAUKDAKFBwKj+8371yrem18G9efOm3Ldt2zake/o3nj9/Xu5Nr8prsmPHjnLfv39/y2316tXltd++fSt3f97/Z040CBAaBAgNAoQGAUKDAKFBgNAgYFQ/R6t+GqnpZ5P6+/t/8d2MHIcOHSr36nVze/bsKa9dv359uU+aNKncV65cWe5jlRMNAoQGAUKDAKFBgNAgQGgQIDQI+GN/tqnpO2EzZswY0j2NdhMnTiz37u7uct+3b1+5v3z5suW2adOm8tpr166V+0jmRIMAoUGA0CBAaBAgNAgQGgQIDQJG9ffRfkbT86L29vZyf/369a+8nRFjYGCg3Ht6esp9/Pj6n9TevXtbbrt27SqvvXPnTrl//vy53H8nJxoECA0ChAYBQoMAoUGA0CBgVH9NZsWKFS23s2fPltdOmDCh3Hfv3l3uhw8fLnf+2eDgYMut6RWBvb295b5169Yh3VOCEw0ChAYBQoMAoUGA0CBAaBAgNAgY1c/RKnfv3i33BQsWlPutW7fKfdmyZf/5nqiflX3//r28tun/6ZIlS4Z0TwlONAgQGgQIDQKEBgFCgwChQYDQIGDMvm5u586d5X779u1y7+rqKvelS5eWe9NzuD9V9ays6ftoo5kTDQKEBgFCgwChQYDQIEBoECA0CBizz9EeP35c7leuXCn35cuXl/vFixfLfc2aNS23Bw8elNf+9ddf5f7ixYtyZ+RxokGA0CBAaBAgNAgQGgQIDQKEBgFj9jnawMBAuTf9/tmnT5/Kfe3ateV+4sSJltvr16/La3t6esr9/Pnz5T5WPXv27HffwpA50SBAaBAgNAgQGgQIDQKEBgFj9mebflZnZ2e537hxo9wnT5485M++evVqua9bt67cm16FN2vWrJbbsWPHymvfvXtX7k0GBwdbbl++fCmvbfrvevTo0ZDuKcGJBgFCgwChQYDQIEBoECA0CBAaBHiONkRz584t9+vXr7fcpkyZ8lOf3fSTUJcuXSr3gwcPttxevXpVXrtixYpynz59ern39/e33M6cOVNe2/TVpJHMiQYBQoMAoUGA0CBAaBAgNAgQGgSM2dfNDbeHDx+W++XLl1tuTd8na9LV1VXuTd/b+vGj9aPT9vb28to5c+aU+4YNG8r9+/fvQ7qv0c6JBgFCgwChQYDQIEBoECA0CBAaBHiONkw2b97ccuvr6yuvPXnyZLl3dHQM6Z7+jaZ3I37+/Lncm57hVZ48eTLka0c6JxoECA0ChAYBQoMAoUGA0CBAaBDgvY4j0Pz588v9woUL5T5t2rRyr7739enTp/Lar1+/lvvUqVPLffHixS23pmd4TZ89kjnRIEBoECA0CBAaBAgNAoQGAf68Pwp1dnaW+40bN8p98uTJv/Bu/u7Dhw/l3vTn/7HKiQYBQoMAoUGA0CBAaBAgNAgQGgR4jjYGzZ07t9y3bNnSctu4cWN57YkTJ8r96NGj5d70VZixyokGAUKDAKFBgNAgQGgQIDQIEBoEeI4GAU40CBAaBAgNAoQGAUKDAKFBgNAgQGgQIDQIEBoECA0ChAYBQoMAoUGA0CBAaBAgNAgQGgQIDQKEBgFCgwChQYDQIEBoECA0CBAaBAgNAoQGAUKDAKFBwP8BDZI5UYEhtHEAAAAASUVORK5CYII=\" y=\"-6.64\"/>\n   </g>\n  </g>\n </g>\n <defs>\n  <clipPath id=\"pb094a4ffbf\">\n   <rect height=\"217.44\" width=\"217.44\" x=\"7.2\" y=\"7.2\"/>\n  </clipPath>\n </defs>\n</svg>\n",
      "image/png": "[encoded data removed]"
     },
     "metadata": {
      "needs_background": "light"
     }
    },
    {
     "output_type": "display_data",
     "data": {
      "text/plain": "<Figure size 432x288 with 1 Axes>",
      "image/svg+xml": "<?xml version=\"1.0\" encoding=\"utf-8\" standalone=\"no\"?>\n<!DOCTYPE svg PUBLIC \"-//W3C//DTD SVG 1.1//EN\"\n  \"http://www.w3.org/Graphics/SVG/1.1/DTD/svg11.dtd\">\n<!-- Created with matplotlib (https://matplotlib.org/) -->\n<svg height=\"231.84pt\" version=\"1.1\" viewBox=\"0 0 231.84 231.84\" width=\"231.84pt\" xmlns=\"http://www.w3.org/2000/svg\" xmlns:xlink=\"http://www.w3.org/1999/xlink\">\n <metadata>\n  <rdf:RDF xmlns:cc=\"http://creativecommons.org/ns#\" xmlns:dc=\"http://purl.org/dc/elements/1.1/\" xmlns:rdf=\"http://www.w3.org/1999/02/22-rdf-syntax-ns#\">\n   <cc:Work>\n    <dc:type rdf:resource=\"http://purl.org/dc/dcmitype/StillImage\"/>\n    <dc:date>2021-01-15T15:05:07.601604</dc:date>\n    <dc:format>image/svg+xml</dc:format>\n    <dc:creator>\n     <cc:Agent>\n      <dc:title>Matplotlib v3.3.3, https://matplotlib.org/</dc:title>\n     </cc:Agent>\n    </dc:creator>\n   </cc:Work>\n  </rdf:RDF>\n </metadata>\n <defs>\n  <style type=\"text/css\">*{stroke-linecap:butt;stroke-linejoin:round;}</style>\n </defs>\n <g id=\"figure_1\">\n  <g id=\"patch_1\">\n   <path d=\"M 0 231.84 \nL 231.84 231.84 \nL 231.84 0 \nL 0 0 \nz\n\" style=\"fill:none;\"/>\n  </g>\n  <g id=\"axes_1\">\n   <g clip-path=\"url(#padde210d91)\">\n    <image height=\"218\" id=\"image7196ba18f3\" transform=\"scale(1 -1)translate(0 -218)\" width=\"218\" x=\"7.2\" xlink:href=\"data:image/png;base64,\niVBORw0KGgoAAAANSUhEUgAAANoAAADaCAYAAADAHVzbAAAFXElEQVR4nO3dvY9MfRzG4TMiXgoSlQQlsomEQhTUJJRqCpGNFZVCovJviGQTBR2Nhk6CxgqFl4SlINmVyDaCgkZ2nvpJnvMds2buM7PPdbV3jv01H79kT2a21zRNvwHGakPXB4D/A6FBgNAgQGgQIDQIEBoECA0ChAYBQoMAoUGA0CBAaBAgNAgQGgQIDQKEBgFCgwChQYDQIEBoECA0CBAaBGzs+gBMlnPnzpX7zZs3y31+fr7c5+bmhj3SuuBGgwChQYDQIEBoECA0CBAaBAgNArxH419OnTpV7r1eL3SS9cWNBgFCgwChQYDQIEBoECA0CBAaBHiPxlD6/X7XR5hKbjQIEBoECA0ChAYBQoMAoUGA0CDAezRG6unTp10fYSK50SBAaBAgNAgQGgQIDQKEBgFCgwDv0RjKoO91XF1dDZ1kurjRIEBoECA0CBAaBAgNAoQGAX69z1AGfd3chw8fQieZLm40CBAaBAgNAoQGAUKDAKFBgNAgQGgQIDQIEBoECA0ChAYBQoMAoUGA0CDA59EYqdOnT5f7wsJC6CSTxY0GAUKDAKFBgNAgQGgQIDQIEBoE9Jqmqb+ob4yuXr1a7seOHQudZHj37t0r93fv3rVuk/wu6cKFC+V+48aNcv/48WO57927d+gzrQduNAgQGgQIDQKEBgFCgwChQcBYf71//fr1cp+bmyv3b9++lfvS0tKwR/pjBw8eLPder1fuv3//bt1+/vxZPvv27dtyf/bsWbm/ePGi3B8/fty6rayslM9+/vy53Hfs2FHumzZtKvf1yo0GAUKDAKFBgNAgQGgQIDQIEBoEjPXr5rZu3Vrug95FXbx4sdzv3r079Jn+1KFDh8p90NmPHz/euu3Zs6d8dtC7pvPnz5f77Oxsuf/69at1G/SObsuWLeW+YUP9f/fMzEzrtri4WD47zdxoECA0CBAaBAgNAoQGAUKDAKFBwET/2aavX7929rNfvXr1V8+/fPlyNAf5D5cuXSr37du3l/vJkydbt7Nnz5bPbt68udwHvUc7fPhw6+Y9GvBXhAYBQoMAoUGA0CBAaBAgNAiY6PdoR44cKfeHDx+GTjJdfvz4Ue537txZ09Y0TXP79u1yP3PmTLlfu3atdbt//3757KDv+ZxkbjQIEBoECA0ChAYBQoMAoUGA0CBgrO/R3r9//1fPHzhwYEQnYVSuXLlS7tX3WTZN0+zfv79127ZtW/ms92hASWgQIDQIEBoECA0ChAYBY/31/oMHD8q9+sgEk2llZaXcP336VO47d+5s3Xbv3l0+u7y8XO6TzI0GAUKDAKFBgNAgQGgQIDQIEBoEjPU92uvXr8t90DsZps/379/X/OyJEyfKfWFhYc3/dtfcaBAgNAgQGgQIDQKEBgFCgwChQUCnf7ZpdXW1yx/PGMzOzpZ79Zmyffv2jfo4E8ONBgFCgwChQYDQIEBoECA0CBAaBHT6Hu3WrVvlvp7fq6xXX758Kff5+fnW7ejRo+WzMzMz5b64uFjuXXKjQYDQIEBoECA0CBAaBAgNAoQGAZ2+R3v06FG5v3nzJnMQRmbQZwyrv5+2a9eu8tl+v7+mM00CNxoECA0ChAYBQoMAoUGA0CCg01/vP3nypMsfTweeP3/eul2+fDl3kDA3GgQIDQKEBgFCgwChQYDQIEBoENBrmmZ6P3sAU8KNBgFCgwChQYDQIEBoECA0CBAaBAgNAoQGAUKDAKFBgNAgQGgQIDQIEBoECA0ChAYBQoMAoUGA0CBAaBAgNAgQGgQIDQKEBgFCgwChQYDQIEBoECA0CBAaBAgNAoQGAUKDAKFBgNAgQGgQIDQI+AduEMEuWRku7QAAAABJRU5ErkJggg==\" y=\"-6.64\"/>\n   </g>\n  </g>\n </g>\n <defs>\n  <clipPath id=\"padde210d91\">\n   <rect height=\"217.44\" width=\"217.44\" x=\"7.2\" y=\"7.2\"/>\n  </clipPath>\n </defs>\n</svg>\n",
      "image/png": "[encoded data removed]"
     },
     "metadata": {
      "needs_background": "light"
     }
    }
   ],
   "source": [
    "for i in range(3):\n",
    "    plt.imshow(mnist_train.data[i], cmap=\"gray\")\n",
    "    plt.axis('off')\n",
    "    plt.show()"
   ]
  },
  {
   "cell_type": "code",
   "execution_count": 5,
   "metadata": {},
   "outputs": [],
   "source": [
    "batch_size = 128\n",
    "\n",
    "trainloader = torch.utils.data.DataLoader(mnist_train, batch_size=batch_size, shuffle=True, num_workers=1)\n",
    "testloader = torch.utils.data.DataLoader(mnist_test, batch_size=batch_size, shuffle=False, num_workers=1)"
   ]
  },
  {
   "cell_type": "code",
   "execution_count": 6,
   "metadata": {},
   "outputs": [
    {
     "output_type": "execute_result",
     "data": {
      "text/plain": [
       "torch.Size([28, 28])"
      ]
     },
     "metadata": {},
     "execution_count": 6
    }
   ],
   "source": [
    "mnist_train.data[0].shape"
   ]
  },
  {
   "source": [
    "# NF construction"
   ],
   "cell_type": "markdown",
   "metadata": {}
  },
  {
   "source": [
    "Dimensionality of images:"
   ],
   "cell_type": "markdown",
   "metadata": {}
  },
  {
   "cell_type": "code",
   "execution_count": 71,
   "metadata": {},
   "outputs": [],
   "source": [
    "d = 28\n",
    "D = d ** 2"
   ]
  },
  {
   "source": [
    "Latent distribution:"
   ],
   "cell_type": "markdown",
   "metadata": {}
  },
  {
   "cell_type": "code",
   "execution_count": 40,
   "metadata": {},
   "outputs": [],
   "source": [
    "base_distribution = pyro.distributions.Normal(\n",
    "    loc=torch.zeros((D,)),\n",
    "    scale=torch.ones((D,))\n",
    ")"
   ]
  },
  {
   "source": [
    "We are going to stack a few coupling blocks:"
   ],
   "cell_type": "markdown",
   "metadata": {}
  },
  {
   "cell_type": "code",
   "execution_count": 61,
   "metadata": {},
   "outputs": [],
   "source": [
    "n_blocks = 6\n",
    "blocks = []\n",
    "for _ in range(n_blocks):\n",
    "    blocks.append(\n",
    "        pyro.distributions.transforms.affine_coupling(\n",
    "            input_dim=D,\n",
    "            hidden_dims=[32, 32, 32]\n",
    "        )\n",
    "    )\n",
    "    blocks.append(\n",
    "        pyro.distributions.transforms.permute(\n",
    "            input_dim=D,\n",
    "            permutation=torch.from_numpy(np.random.permutation(D))\n",
    "        )\n",
    "    )"
   ]
  },
  {
   "cell_type": "code",
   "execution_count": 62,
   "metadata": {},
   "outputs": [],
   "source": [
    "transformed_distribution = pyro.distributions.TransformedDistribution(\n",
    "    base_distribution=base_distribution,\n",
    "    transforms=blocks\n",
    ")"
   ]
  },
  {
   "cell_type": "code",
   "execution_count": 63,
   "metadata": {},
   "outputs": [
    {
     "output_type": "execute_result",
     "data": {
      "text/plain": [
       "torch.Size([2, 784])"
      ]
     },
     "metadata": {},
     "execution_count": 63
    }
   ],
   "source": [
    "transformed_distribution.sample((2,)).shape"
   ]
  },
  {
   "cell_type": "code",
   "execution_count": 64,
   "metadata": {},
   "outputs": [
    {
     "output_type": "execute_result",
     "data": {
      "text/plain": [
       "tensor(-736.7251, grad_fn=<AddBackward0>)"
      ]
     },
     "metadata": {},
     "execution_count": 64
    }
   ],
   "source": [
    "transformed_distribution.log_prob(torch.zeros((D,)))"
   ]
  },
  {
   "source": [
    "# NF Training"
   ],
   "cell_type": "markdown",
   "metadata": {}
  },
  {
   "cell_type": "code",
   "execution_count": 72,
   "metadata": {},
   "outputs": [],
   "source": [
    "modules = torch.nn.ModuleList([b for i, b in enumerate(blocks) if i%2 == 0])\n",
    "optimizer = torch.optim.Adam(modules.parameters())\n",
    "n_epochs = 100"
   ]
  },
  {
   "cell_type": "code",
   "execution_count": 68,
   "metadata": {},
   "outputs": [
    {
     "output_type": "stream",
     "name": "stderr",
     "text": [
      "100%|██████████| 5/5 [01:24<00:00, 16.93s/it, loss = -1264.504]\n"
     ]
    }
   ],
   "source": [
    "pbar = trange(n_epochs)\n",
    "for epoch in pbar:\n",
    "    for x_batch, _ in trainloader:\n",
    "        x_batch = x_batch.to(device)\n",
    "        optimizer.zero_grad()\n",
    "        loss = - transformed_distribution.log_prob(x_batch).mean()\n",
    "        loss.backward()\n",
    "        optimizer.step()\n",
    "\n",
    "        transformed_distribution.clear_cache()\n",
    "        \n",
    "    pbar.set_postfix_str(f\"loss = {loss.item():.3f}\")"
   ]
  },
  {
   "source": [
    "# Generated examples"
   ],
   "cell_type": "markdown",
   "metadata": {}
  },
  {
   "cell_type": "code",
   "execution_count": 69,
   "metadata": {},
   "outputs": [],
   "source": [
    "n_examples = 3\n",
    "generated_images = (\n",
    "    transformed_distribution\n",
    "    .sample((n_examples,))\n",
    "    .detach()\n",
    "    .view((n_examples, d, d))\n",
    "    .numpy()\n",
    ")"
   ]
  },
  {
   "cell_type": "code",
   "execution_count": 70,
   "metadata": {},
   "outputs": [
    {
     "output_type": "display_data",
     "data": {
      "text/plain": "<Figure size 432x288 with 1 Axes>",
      "image/svg+xml": "<?xml version=\"1.0\" encoding=\"utf-8\" standalone=\"no\"?>\n<!DOCTYPE svg PUBLIC \"-//W3C//DTD SVG 1.1//EN\"\n  \"http://www.w3.org/Graphics/SVG/1.1/DTD/svg11.dtd\">\n<!-- Created with matplotlib (https://matplotlib.org/) -->\n<svg height=\"231.84pt\" version=\"1.1\" viewBox=\"0 0 231.84 231.84\" width=\"231.84pt\" xmlns=\"http://www.w3.org/2000/svg\" xmlns:xlink=\"http://www.w3.org/1999/xlink\">\n <metadata>\n  <rdf:RDF xmlns:cc=\"http://creativecommons.org/ns#\" xmlns:dc=\"http://purl.org/dc/elements/1.1/\" xmlns:rdf=\"http://www.w3.org/1999/02/22-rdf-syntax-ns#\">\n   <cc:Work>\n    <dc:type rdf:resource=\"http://purl.org/dc/dcmitype/StillImage\"/>\n    <dc:date>2021-01-15T17:14:19.850382</dc:date>\n    <dc:format>image/svg+xml</dc:format>\n    <dc:creator>\n     <cc:Agent>\n      <dc:title>Matplotlib v3.3.3, https://matplotlib.org/</dc:title>\n     </cc:Agent>\n    </dc:creator>\n   </cc:Work>\n  </rdf:RDF>\n </metadata>\n <defs>\n  <style type=\"text/css\">*{stroke-linecap:butt;stroke-linejoin:round;}</style>\n </defs>\n <g id=\"figure_1\">\n  <g id=\"patch_1\">\n   <path d=\"M 0 231.84 \nL 231.84 231.84 \nL 231.84 0 \nL 0 0 \nz\n\" style=\"fill:none;\"/>\n  </g>\n  <g id=\"axes_1\">\n   <g clip-path=\"url(#pbde9a22847)\">\n    <image height=\"218\" id=\"image4364088930\" transform=\"scale(1 -1)translate(0 -218)\" width=\"218\" x=\"7.2\" xlink:href=\"data:image/png;base64,\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\" y=\"-6.64\"/>\n   </g>\n  </g>\n </g>\n <defs>\n  <clipPath id=\"pbde9a22847\">\n   <rect height=\"217.44\" width=\"217.44\" x=\"7.2\" y=\"7.2\"/>\n  </clipPath>\n </defs>\n</svg>\n",
      "image/png": "[encoded data removed]"
     },
     "metadata": {
      "needs_background": "light"
     }
    },
    {
     "output_type": "display_data",
     "data": {
      "text/plain": "<Figure size 432x288 with 1 Axes>",
      "image/svg+xml": "<?xml version=\"1.0\" encoding=\"utf-8\" standalone=\"no\"?>\n<!DOCTYPE svg PUBLIC \"-//W3C//DTD SVG 1.1//EN\"\n  \"http://www.w3.org/Graphics/SVG/1.1/DTD/svg11.dtd\">\n<!-- Created with matplotlib (https://matplotlib.org/) -->\n<svg height=\"231.84pt\" version=\"1.1\" viewBox=\"0 0 231.84 231.84\" width=\"231.84pt\" xmlns=\"http://www.w3.org/2000/svg\" xmlns:xlink=\"http://www.w3.org/1999/xlink\">\n <metadata>\n  <rdf:RDF xmlns:cc=\"http://creativecommons.org/ns#\" xmlns:dc=\"http://purl.org/dc/elements/1.1/\" xmlns:rdf=\"http://www.w3.org/1999/02/22-rdf-syntax-ns#\">\n   <cc:Work>\n    <dc:type rdf:resource=\"http://purl.org/dc/dcmitype/StillImage\"/>\n    <dc:date>2021-01-15T17:14:20.037653</dc:date>\n    <dc:format>image/svg+xml</dc:format>\n    <dc:creator>\n     <cc:Agent>\n      <dc:title>Matplotlib v3.3.3, https://matplotlib.org/</dc:title>\n     </cc:Agent>\n    </dc:creator>\n   </cc:Work>\n  </rdf:RDF>\n </metadata>\n <defs>\n  <style type=\"text/css\">*{stroke-linecap:butt;stroke-linejoin:round;}</style>\n </defs>\n <g id=\"figure_1\">\n  <g id=\"patch_1\">\n   <path d=\"M 0 231.84 \nL 231.84 231.84 \nL 231.84 0 \nL 0 0 \nz\n\" style=\"fill:none;\"/>\n  </g>\n  <g id=\"axes_1\">\n   <g clip-path=\"url(#p2e0fd971ad)\">\n    <image height=\"218\" id=\"imageddbe516672\" transform=\"scale(1 -1)translate(0 -218)\" width=\"218\" x=\"7.2\" xlink:href=\"data:image/png;base64,\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\" y=\"-6.64\"/>\n   </g>\n  </g>\n </g>\n <defs>\n  <clipPath id=\"p2e0fd971ad\">\n   <rect height=\"217.44\" width=\"217.44\" x=\"7.2\" y=\"7.2\"/>\n  </clipPath>\n </defs>\n</svg>\n",
      "image/png": "[encoded data removed]"
     },
     "metadata": {
      "needs_background": "light"
     }
    },
    {
     "output_type": "display_data",
     "data": {
      "text/plain": "<Figure size 432x288 with 1 Axes>",
      "image/svg+xml": "<?xml version=\"1.0\" encoding=\"utf-8\" standalone=\"no\"?>\n<!DOCTYPE svg PUBLIC \"-//W3C//DTD SVG 1.1//EN\"\n  \"http://www.w3.org/Graphics/SVG/1.1/DTD/svg11.dtd\">\n<!-- Created with matplotlib (https://matplotlib.org/) -->\n<svg height=\"231.84pt\" version=\"1.1\" viewBox=\"0 0 231.84 231.84\" width=\"231.84pt\" xmlns=\"http://www.w3.org/2000/svg\" xmlns:xlink=\"http://www.w3.org/1999/xlink\">\n <metadata>\n  <rdf:RDF xmlns:cc=\"http://creativecommons.org/ns#\" xmlns:dc=\"http://purl.org/dc/elements/1.1/\" xmlns:rdf=\"http://www.w3.org/1999/02/22-rdf-syntax-ns#\">\n   <cc:Work>\n    <dc:type rdf:resource=\"http://purl.org/dc/dcmitype/StillImage\"/>\n    <dc:date>2021-01-15T17:14:20.141771</dc:date>\n    <dc:format>image/svg+xml</dc:format>\n    <dc:creator>\n     <cc:Agent>\n      <dc:title>Matplotlib v3.3.3, https://matplotlib.org/</dc:title>\n     </cc:Agent>\n    </dc:creator>\n   </cc:Work>\n  </rdf:RDF>\n </metadata>\n <defs>\n  <style type=\"text/css\">*{stroke-linecap:butt;stroke-linejoin:round;}</style>\n </defs>\n <g id=\"figure_1\">\n  <g id=\"patch_1\">\n   <path d=\"M 0 231.84 \nL 231.84 231.84 \nL 231.84 0 \nL 0 0 \nz\n\" style=\"fill:none;\"/>\n  </g>\n  <g id=\"axes_1\">\n   <g clip-path=\"url(#p0223f58f91)\">\n    <image height=\"218\" id=\"image71a6c44a09\" transform=\"scale(1 -1)translate(0 -218)\" width=\"218\" x=\"7.2\" xlink:href=\"data:image/png;base64,\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\" y=\"-6.64\"/>\n   </g>\n  </g>\n </g>\n <defs>\n  <clipPath id=\"p0223f58f91\">\n   <rect height=\"217.44\" width=\"217.44\" x=\"7.2\" y=\"7.2\"/>\n  </clipPath>\n </defs>\n</svg>\n",
      "image/png": "[encoded data removed]"
     },
     "metadata": {
      "needs_background": "light"
     }
    }
   ],
   "source": [
    "for i in range(n_examples):\n",
    "    plt.imshow(generated_images[i], cmap=\"gray\")\n",
    "    plt.axis('off')\n",
    "    plt.show()"
   ]
  },
  {
   "cell_type": "code",
   "execution_count": null,
   "metadata": {},
   "outputs": [],
   "source": []
  }
 ]
}