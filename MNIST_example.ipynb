{
 "cells": [
  {
   "cell_type": "markdown",
   "metadata": {},
   "source": [
    "# Imports"
   ]
  },
  {
   "cell_type": "code",
   "execution_count": 1,
   "metadata": {},
   "outputs": [],
   "source": [
    "import os\n",
    "\n",
    "import numpy as np\n",
    "import pyro\n",
    "from tqdm.auto import trange\n",
    "import torch\n",
    "import torch.distributions as td\n",
    "import torch.nn as nn\n",
    "import torch.nn.functional as F\n",
    "import torchvision\n",
    "from matplotlib import pyplot as plt\n",
    "\n",
    "import tensorflow as tf\n",
    "import tensorflow_probability as tfp\n",
    "\n",
    "tfd = tfp.distributions\n",
    "tfb = tfp.bijectors\n",
    "\n",
    "np.random.seed(12345)\n",
    "torch.manual_seed(12345)\n",
    "tf.random.set_seed(12345)\n",
    "\n",
    "device = torch.device(\"cuda:1\" if torch.cuda.is_available() else \"cpu\")"
   ]
  },
  {
   "cell_type": "code",
   "execution_count": 2,
   "metadata": {},
   "outputs": [
    {
     "data": {
      "text/plain": [
       "device(type='cuda', index=1)"
      ]
     },
     "execution_count": 2,
     "metadata": {},
     "output_type": "execute_result"
    }
   ],
   "source": [
    "device"
   ]
  },
  {
   "cell_type": "markdown",
   "metadata": {},
   "source": [
    "# MNIST data loading"
   ]
  },
  {
   "cell_type": "markdown",
   "metadata": {},
   "source": [
    "Data will be stored under ./data/MNIST"
   ]
  },
  {
   "cell_type": "code",
   "execution_count": 3,
   "metadata": {},
   "outputs": [],
   "source": [
    "os.makedirs(\"data\", exist_ok=True)"
   ]
  },
  {
   "cell_type": "code",
   "execution_count": 4,
   "metadata": {},
   "outputs": [],
   "source": [
    "\n",
    "\n",
    "def uniform_quantization(img):\n",
    "    return (img*255+torch.rand(img.size()))/256\n",
    "\n",
    "def rescale_logit(img,lambd=1e-6):\n",
    "    ## logit space\n",
    "    return torch.logit(lambd+(1-2*lambd)*img)\n",
    "\n"
   ]
  },
  {
   "cell_type": "code",
   "execution_count": 5,
   "metadata": {},
   "outputs": [],
   "source": [
    "transform = torchvision.transforms.Compose(\n",
    "    [\n",
    "        torchvision.transforms.ToTensor(),\n",
    "        uniform_quantization,\n",
    "        rescale_logit,\n",
    "        torchvision.transforms.Lambda(lambd=torch.flatten)\n",
    "    ]\n",
    ")\n",
    "\n",
    "mnist_train = torchvision.datasets.MNIST(root=\"data\", download=True, transform=transform, train=True)\n",
    "mnist_test = torchvision.datasets.MNIST(root=\"data\", download=True, transform=transform, train=False)"
   ]
  },
  {
   "cell_type": "markdown",
   "metadata": {},
   "source": [
    "Sanity check for the data:"
   ]
  },
  {
   "cell_type": "code",
   "execution_count": 41,
   "metadata": {},
   "outputs": [
    {
     "data": {
      "image/png": "[encoded data removed]",
      "image/svg+xml": [
       "<?xml version=\"1.0\" encoding=\"utf-8\" standalone=\"no\"?>\n",
       "<!DOCTYPE svg PUBLIC \"-//W3C//DTD SVG 1.1//EN\"\n",
       "  \"http://www.w3.org/Graphics/SVG/1.1/DTD/svg11.dtd\">\n",
       "<!-- Created with matplotlib (https://matplotlib.org/) -->\n",
       "<svg height=\"61.688136pt\" version=\"1.1\" viewBox=\"0 0 572.4 61.688136\" width=\"572.4pt\" xmlns=\"http://www.w3.org/2000/svg\" xmlns:xlink=\"http://www.w3.org/1999/xlink\">\n",
       " <metadata>\n",
       "  <rdf:RDF xmlns:cc=\"http://creativecommons.org/ns#\" xmlns:dc=\"http://purl.org/dc/elements/1.1/\" xmlns:rdf=\"http://www.w3.org/1999/02/22-rdf-syntax-ns#\">\n",
       "   <cc:Work>\n",
       "    <dc:type rdf:resource=\"http://purl.org/dc/dcmitype/StillImage\"/>\n",
       "    <dc:date>2021-02-02T15:58:06.489347</dc:date>\n",
       "    <dc:format>image/svg+xml</dc:format>\n",
       "    <dc:creator>\n",
       "     <cc:Agent>\n",
       "      <dc:title>Matplotlib v3.3.2, https://matplotlib.org/</dc:title>\n",
       "     </cc:Agent>\n",
       "    </dc:creator>\n",
       "   </cc:Work>\n",
       "  </rdf:RDF>\n",
       " </metadata>\n",
       " <defs>\n",
       "  <style type=\"text/css\">*{stroke-linecap:butt;stroke-linejoin:round;}</style>\n",
       " </defs>\n",
       " <g id=\"figure_1\">\n",
       "  <g id=\"patch_1\">\n",
       "   <path d=\"M 0 61.688136 \n",
       "L 572.4 61.688136 \n",
       "L 572.4 0 \n",
       "L 0 0 \n",
       "z\n",
       "\" style=\"fill:none;\"/>\n",
       "  </g>\n",
       "  <g id=\"axes_1\">\n",
       "   <g clip-path=\"url(#p6a99b9276b)\">\n",
       "    <image height=\"48\" id=\"imagecef41304b0\" transform=\"scale(1 -1)translate(0 -48)\" width=\"48\" x=\"7.2\" xlink:href=\"data:image/png;base64,\n",
       "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\" y=\"-6.488136\"/>\n",
       "   </g>\n",
       "  </g>\n",
       "  <g id=\"axes_2\">\n",
       "   <g clip-path=\"url(#p955f88e67d)\">\n",
       "    <image height=\"48\" id=\"image7679f12a5d\" transform=\"scale(1 -1)translate(0 -48)\" width=\"48\" x=\"63.945763\" xlink:href=\"data:image/png;base64,\n",
       "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\" y=\"-6.488136\"/>\n",
       "   </g>\n",
       "  </g>\n",
       "  <g id=\"axes_3\">\n",
       "   <g clip-path=\"url(#p5c492c55de)\">\n",
       "    <image height=\"48\" id=\"imagef272613e9a\" transform=\"scale(1 -1)translate(0 -48)\" width=\"48\" x=\"120.691525\" xlink:href=\"data:image/png;base64,\n",
       "iVBORw0KGgoAAAANSUhEUgAAADAAAAAwCAYAAABXAvmHAAAFlklEQVR4nO2Zu28TSxSHvx2v7V3ba29sR4Q4JpYwkCaIVwMBRIVEQ0vLn8N/ghAFBR0SDQ8XFIgkPELAgjyUBcfr9SPr53r3FlexiIhzHTtgrsTXuJlzdn4z55w5M5YAj/8xYtwTGJW/AsaNPI6PCiEQQiDLMp7n4boujuPgeYdPx98uwOfzsbCwwNzcHHfv3mVtbY2lpSUePnzI58+fD+3vtwuQJIlUKsWpU6e4dOkSkUiESqVCKBQayt9vzwEhBPPz88zPzyOEQJKk0fwd0bwOhc/nw+fzAQwV9z8ytirked7Ik4c/oIxalsXHjx/Z2dkZyn6sAiRJotlsUiqV6HQ6Q/kYm4Afk3eUcBp7CLXbbWq1Gt1udyj7sSexbdsYhkGz2RzKz9h3YFTGLkCSJHw+39AH2tgFTE9Pc+3aNeLx+FD2fXshWZaJx+P4/X6CwWBfB67rYts2juPQbrfpdDq02+0DP2rbNvV6HYBYLEYmkxm6F+orIJFIcOfOHdLpNLOzs30ddLtdcrkc379/Z21tDcMwWF9f7zvedV3ev3+PqqrcunWLmZkZbty4wYMHD45GgBCC8+fPk81muX79OrquE4vFaDQaOI6zZ2w4HCYYDBIIBKhWq5imiWVZbG9vU6vVeodUo9GgUqlQLpep1+t8+fIFTdOo1+sIIdB1Hb/ffzQCZFnm5s2bXLhwgdu3b+M4Do1Gg+3tbRqNxp6x09PTJJNJzp49i+d5dLvdXihtbGxgmibv3r2jUCiQz+f59OkTm5ubfPjwAYBqtYqu60xMTBAIBI5GAIDf78fv9yNJEsvLyzx58oSlpSWKxeKecalUimQyiSRJKIpCNptFURRUVaXdbiOE4PLly8C/cV+tVqnVauTzeaLRKKFQCFmWEUKQSCSYmpqiUCjguu5oAnavfACFQoE3b96Qy+UwDGPPuKmpKeLxOEIIIpEIpmkSjUaJRqPIskwoFGJubg5VVYnFYhw/fhzXdUkkEr1F2r0TaJqGrusUi8XRBfxIu92mUqns22wVCgVM0wT+redv375FkqSeeEmSuHfvHn6/H1VVOXnyJJlMhitXrpBOp/H7/ciyjCRJpNNpstksX79+/SnXRhIQCATQNG3fJHNdd89q9SufPp+vF+O2bRMMBjFNk1QqRTweZ2JighMnTjA3N8fLly/pdDoD90b/KUDXdU6fPs3y8vJADvej2+3SaDRYXV1ldXWVZ8+ekclkiEajzM/Pc/HiRa5evUoqleLRo0e0Wq3eOXFoAZ7nYVkWlmXheR7hcJipqakDD7NhqFQqPH78mE6nw5kzZ4hEIkxOTqKqKoFAYGABP7USnudRLpcpl8t4noeiKL2kO0pqtRovXrxgZWWFnZ0dFEVB13UURUGWB38s+Wmk67osLi4ihKDZbB4qoQ6D4zi9Q88wDFRVRQhBPB6nVCr9VLL7se8OlEolTNOk1WoNfdEYBMdxevHuui5CCCYmJtA0bWAf++bAxsYGuq5jmubAsTgsnU6n1wwGg0HOnTtHt9tlcXFxIPt92+nd98rd31/JxsYGT58+pVgs9nYgEokMbH/gfeBXhs8uKysr3L9/n83NTSRJIpFIEIvFBrbvm+61Wo3nz5+jqmrvFe1X0Gq1KJVKvHr1CkmSOHbsGLOzs8zMzGBZFrZtH2jfdwdarRb5fJ5v377RbDaP5BVtPxzHodlssrW1xfr6OoqioGkakUhkoA617w7Yts3r16/RNI1wODxwWRsG13UxTZOtrS0mJyd7h+ggi9ZXQKfTwTAMLMtCUZRfXo2q1SqWZREKhVBVdWC7vgKazSYrKytHMrlBMAwDTdNIp9OUy+WB7ST+kL9Zk8kkuq6zsLBAsVgkl8tRr9dptVoH2v0xAoZl7O9Co/JXwLj5K2Dc/BUwbv4B9iuEWFRdFbwAAAAASUVORK5CYII=\" y=\"-6.488136\"/>\n",
       "   </g>\n",
       "  </g>\n",
       "  <g id=\"axes_4\">\n",
       "   <g clip-path=\"url(#p063e83d7b1)\">\n",
       "    <image height=\"48\" id=\"image183aed2146\" transform=\"scale(1 -1)translate(0 -48)\" width=\"48\" x=\"177.437288\" xlink:href=\"data:image/png;base64,\n",
       "iVBORw0KGgoAAAANSUhEUgAAADAAAAAwCAYAAABXAvmHAAAFJElEQVR4nO2ZzW8S6xfHPzPDEKDTUCgtxVokUGuw6oKIxEQTE0PiQpdudKELd678G/wL3HSrbly7aXRDjN2VJsat1Ixtsa3yZtuZQnmZee7ipuT293LTwkDvTfwkT0hI5pzz5eGcOed5JEDwL0Y+7QD65beA08bV18MuF4qiIEkSAEIILMui0+k4EtyxYujlIbfbzejoKPfu3ePGjRucP38el8tFpVLh7du3vHz50uk4/y89CXC5XGiaRiKRIJVKdQVsb2+Tz+edjvFv6SkHvF4v586dY25ujvn5eXw+n9NxHZueBEiShCzLyLKMoihOx3Qieq5CQogjn4ccJvSw6ElAp9Nhf38fwzDY3d3FsixcLheBQICrV6/y6NEjYrEYLldfRe5Y9CTAsiwajQaGYWAYBrZtI8syXq+XaDRKJpMhFAqhqurAd6QnAaZpUigU+Pz5MysrK9TrdWRZRlVVLl68yIMHD0gmk4yNjf0zBQghaLfb6LrOysoK+/v73VxQVRVN0wgEAgSDQWR5sC/7vqx//PiRhYUFSqUSQgiEENi2jRCCs2fPMjs7O/A86PvnsW2ber3OwcHBkYqUTCbJZDJomjZQEY5YPqxIwWCw+59PJBIA+P1+Dg4OME3TCVf/E9HPUhRFZLNZ8ezZM6HruqjVaqLdbgvDMMTW1pZYWFgQjx8/7svH362+d8C2bQqFQreZU1WV0dFRPB4Psixz6dIlqtUqHo+HdruNZVn9ujxC3wKEEGxsbCBJEsvLy6RSKaampoA/u9ZMJoNpmkSjUUqlEjs7O/26PIIjNU4IgWmafPr0qSvmcCmKwvj4OOl0msnJSSfcHcGxIr23t0cul6NQKBwRIEkS4XCYbDZLNBp1yl0Xx+pbp9OhXC7z4cMH3G43d+/eJR6P43a7cbvdhMNhxsfH8fv9mKbpWC44tgO2bdNoNPj27RtLS0usra2xu7uLbduoqsrY2BihUIiJiQnHeyRHy5qiKMLr9Yr79++L58+fi1qtJlqtlmg0GmJ5eVm8fv1azM/PC5/P988oo//JYadaLBbRNI2dnR1UVcXn8zE1NYVlWSQSCdrtNqurq/81T5yUgb3jdV2n1Wqh6zpCCGKxGNPT00xMTHDnzh0mJyfRdb3vE4yBtYqGYbC5ucmrV694//5993tFUUilUly/fp25uTlCoVBffga2A41Gg2azyeLiIgBPnjzpztEXLlxAURTi8TiWZVGpVHr2M9Bm3bZt9vb2+Pr1K4uLi6yvryPLMiMjI0SjUR4+fEg6ne7Lx8CPFi3LwjAMCoUC1WqVTqeDLMv4fD5mZ2eZmZkhGAyiqmpP9gc/dQM/f/7k3bt3hMNhZmZmCAQCeDwerly5wo8fP1hbW2NpaYnNzc0T2x7K4W69XqdYLJLP58nlctRqNdrtNrIsE4lEuHbtGpFIpDv8nGQMHZoAXdfJ5XK8efOG7e1tms0mANFolNu3bxOPxwkEArjd7hMdlkkM8YZG0zT8fj9Pnz7l8uXLZLNZbNum2Wzy5csX1tfXefHiBd+/f2djY+NYNod6P2CaJqVSCV3XKRaL3T5J0zTS6TS3bt0iHA6jadqxbQ79gkMIQaVSoVwu02q1+u5Khy7Atm22trbQdZ3V1VXK5XK3M+2lQx1KGf0rtm2Tz+cpFotEIhFu3rzJmTNnkGW5JyFDTeK/MjIyQjKZZHp6mlgshiRJNBoNcrkcv379olqtHsvOqQlwin/9LeVvAafNbwGnzW8Bp80fcN9hKbAFfrcAAAAASUVORK5CYII=\" y=\"-6.488136\"/>\n",
       "   </g>\n",
       "  </g>\n",
       "  <g id=\"axes_5\">\n",
       "   <g clip-path=\"url(#pb25b32ffa3)\">\n",
       "    <image height=\"48\" id=\"image3b091d04bd\" transform=\"scale(1 -1)translate(0 -48)\" width=\"48\" x=\"234.183051\" xlink:href=\"data:image/png;base64,\n",
       "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\" y=\"-6.488136\"/>\n",
       "   </g>\n",
       "  </g>\n",
       "  <g id=\"axes_6\">\n",
       "   <g clip-path=\"url(#p62ea55354d)\">\n",
       "    <image height=\"48\" id=\"imagedeaaf2346e\" transform=\"scale(1 -1)translate(0 -48)\" width=\"48\" x=\"290.928814\" xlink:href=\"data:image/png;base64,\n",
       "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\" y=\"-6.488136\"/>\n",
       "   </g>\n",
       "  </g>\n",
       "  <g id=\"axes_7\">\n",
       "   <g clip-path=\"url(#p58933f74fc)\">\n",
       "    <image height=\"48\" id=\"image4c3b0d5ffc\" transform=\"scale(1 -1)translate(0 -48)\" width=\"48\" x=\"347.674576\" xlink:href=\"data:image/png;base64,\n",
       "iVBORw0KGgoAAAANSUhEUgAAADAAAAAwCAYAAABXAvmHAAADRklEQVR4nO2ZwUvrShTGv0liDbYmsdG2KQRxJ1oQwU13LsW1f6b/hG5EQQU3xYWSkBKNqam1bdqkSecu7kt4xYuL15nbJ/QHodCB850vc87pDCUAKH4wwqITmJelgUWzNLBoJN4CKysrKBaLqNVqkCQJkvRbcjwew7IsTCYTpGk6lwbl9YiiSOv1Oj07O6M3NzfUtm36+flJ+/0+vb6+pru7u7RcLs+lwXUHBEFAuVzG1tYWDMOAqqooFosAAFmWIQgCCCFzaXA3kCVvGAYfDS5R/0GWZRwfH+Pg4ICbBlcDkiRhZ2cnf/vzlsuf4GpAFEVsb2+jVqvNJC8IApP6Bzj2QLVahWma0DQNa2tr+feUUrTbbTiOg8FggDiO59LhZuDo6AiHh4cwTROKooDS34feJElweXmJu7s7uK6LyWQylw63EtI0DZubmxBFkZcEAI4GFEWBrusQhK8SaZrO/eubwaWECCFoNps4OTmBLMsza2ma4uLiAvf390xMcOsBVVWh63pe+wAQhiE+Pj7gui48z5tZ+69wM0AIycdklujT0xNarRYeHx/hui4TA9x6gFKaPxlBEMBxHERRxCR5gPNZKEsy++x0Onh+fkYURcw0fvyFZmlg0XA1kE2hf08k1nAzkCXNK/GMvzpGecB8jBJCIEkSCCFfxigPmBvY29tDs9mEaZqsQ/8RZgYIIRBFEZVKBY1GA+vr6/laFEUIggDv7+/o9XrMTqIAQwOSJEHXdTQaDZyenqJareZrtm3j/PwcV1dXaLVaGA6HrGTZNTGlFGmaIo5jjEajmbc8Go3Qbrfh+z7zHWBqII5jhGGIIAhmrophGMK2bby9vaHb7f4/DUynUwyHQ/i+D8uyEIYhq9DfwryEoijCYDBAkiSsQn8LMwOEEMiyDE3TYBjGl6skL5gZEAQBq6urUBQFlUoFhUKBVehvYTZGRVGEoiio1+vY399HqVRiFfpbmO1AkiTodruwLAu3t7fo9XqglML3fXieB8/zuDQ20ynU7/fhOA4eHh7Q6XQQhiFeX1/heR6CIMB4PGYll0PA+I/uUqmEjY0NqKqKQqGQT6WXlxckSYLpdMpSjr2Bv83ySrlolgYWzY838AtUYZjwnvvzawAAAABJRU5ErkJggg==\" y=\"-6.488136\"/>\n",
       "   </g>\n",
       "  </g>\n",
       "  <g id=\"axes_8\">\n",
       "   <g clip-path=\"url(#p5b63c7abfe)\">\n",
       "    <image height=\"48\" id=\"imagef1da53ed37\" transform=\"scale(1 -1)translate(0 -48)\" width=\"48\" x=\"404.420339\" xlink:href=\"data:image/png;base64,\n",
       "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\" y=\"-6.488136\"/>\n",
       "   </g>\n",
       "  </g>\n",
       "  <g id=\"axes_9\">\n",
       "   <g clip-path=\"url(#p25f293f73f)\">\n",
       "    <image height=\"48\" id=\"imagef9a63cc3c0\" transform=\"scale(1 -1)translate(0 -48)\" width=\"48\" x=\"461.166102\" xlink:href=\"data:image/png;base64,\n",
       "iVBORw0KGgoAAAANSUhEUgAAADAAAAAwCAYAAABXAvmHAAAC7UlEQVR4nO2ZXUrzWhSGn/yZ1p8YDRpj0RLwpiiOwLk4AAfiOJyAgxAFL7xRRBBR1AuxlJIKSW2TnZ3vKp7vHLw7e7cU+gxgvfvN2uuHHQOomGHMaR/g/zI3MG1s3QKO42AYBoZhIIRASklVqSs7rQY8z+Pk5IQwDAnDkPPzcy4uLuj3+wghlGhoNeA4Dp1Oh93dXaIo4vr6mkajgWmqu7naDezv77Ozs8Py8jK+7+O6LoZhKNPQWsRCCN7e3uh2u9i2zcrKCmtra9i2uu+m1UBRFNzf3/P6+opt26yurhKG4ewYqCnLkizLeH5+5ubmhuFwqCy29jYKIKWkLEsGgwGfn59IKZXFnkgG6jlgWdbPXFCFVgOmaRIEAb7vY9s2rVaLTqdDo9FQp6Es0i84jsPBwQF7e3s0m02Ojo44Pj4mCAJlGtpqoN1uE8cxURTheR5CCJ6enri8vCRNU2U62jKwtbVFHMcEQcDS0hJCCN7f37m9veX7+1uZjjYDddH+XbBCCIqiULrMaTOwsLCA4zgAVFVFVVUURcF4PFbaRrXVgO/7bG5uYpomVVUhhODr64tutzsbGQiCgO3tbSzLAv7JgsrDg0YDrVaLOI6V7j2/MZFVIkkS7u7u6Ha7ymNPZJUYjUZ8fHyQZZny2BMxUBQFg8GAPM+Vx56IgaqqkFIqbZ8182eV/2JZFq7r0mq1aLfbP21UF8ozYNs2ruuysbFBFEX/mgM6UG6g3oGazSaLi4sYhvHThVRuoTVaasAwDEzT/Hn/yfOcJElmtwulacrj4yNJkiiPrXUS16u0lJI8zynLUrnGxOZAnufzOfAbWq9QPYHLslT+rF6jNQNSSpIkod/v0+/3GY1GyjWUZ0BKSVEUPDw84Ps+QRCQpinD4VDZP4G/UZ4BIQRZlnF2dsbp6SkvLy/0ej2SJGE8HquWw0DDb1bTNFlfX8fzPA4PD+n1elxdXamWATQZmCQz30bnBqbN3MC0mRuYNn8Amfozq8UnWoMAAAAASUVORK5CYII=\" y=\"-6.488136\"/>\n",
       "   </g>\n",
       "  </g>\n",
       "  <g id=\"axes_10\">\n",
       "   <g clip-path=\"url(#p4c38c680dd)\">\n",
       "    <image height=\"48\" id=\"image85fd5c20bc\" transform=\"scale(1 -1)translate(0 -48)\" width=\"48\" x=\"517.911864\" xlink:href=\"data:image/png;base64,\n",
       "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\" y=\"-6.488136\"/>\n",
       "   </g>\n",
       "  </g>\n",
       " </g>\n",
       " <defs>\n",
       "  <clipPath id=\"p6a99b9276b\">\n",
       "   <rect height=\"47.288136\" width=\"47.288136\" x=\"7.2\" y=\"7.2\"/>\n",
       "  </clipPath>\n",
       "  <clipPath id=\"p955f88e67d\">\n",
       "   <rect height=\"47.288136\" width=\"47.288136\" x=\"63.945763\" y=\"7.2\"/>\n",
       "  </clipPath>\n",
       "  <clipPath id=\"p5c492c55de\">\n",
       "   <rect height=\"47.288136\" width=\"47.288136\" x=\"120.691525\" y=\"7.2\"/>\n",
       "  </clipPath>\n",
       "  <clipPath id=\"p063e83d7b1\">\n",
       "   <rect height=\"47.288136\" width=\"47.288136\" x=\"177.437288\" y=\"7.2\"/>\n",
       "  </clipPath>\n",
       "  <clipPath id=\"pb25b32ffa3\">\n",
       "   <rect height=\"47.288136\" width=\"47.288136\" x=\"234.183051\" y=\"7.2\"/>\n",
       "  </clipPath>\n",
       "  <clipPath id=\"p62ea55354d\">\n",
       "   <rect height=\"47.288136\" width=\"47.288136\" x=\"290.928814\" y=\"7.2\"/>\n",
       "  </clipPath>\n",
       "  <clipPath id=\"p58933f74fc\">\n",
       "   <rect height=\"47.288136\" width=\"47.288136\" x=\"347.674576\" y=\"7.2\"/>\n",
       "  </clipPath>\n",
       "  <clipPath id=\"p5b63c7abfe\">\n",
       "   <rect height=\"47.288136\" width=\"47.288136\" x=\"404.420339\" y=\"7.2\"/>\n",
       "  </clipPath>\n",
       "  <clipPath id=\"p25f293f73f\">\n",
       "   <rect height=\"47.288136\" width=\"47.288136\" x=\"461.166102\" y=\"7.2\"/>\n",
       "  </clipPath>\n",
       "  <clipPath id=\"p4c38c680dd\">\n",
       "   <rect height=\"47.288136\" width=\"47.288136\" x=\"517.911864\" y=\"7.2\"/>\n",
       "  </clipPath>\n",
       " </defs>\n",
       "</svg>\n"
      ],
      "text/plain": [
       "<Figure size 720x72 with 10 Axes>"
      ]
     },
     "metadata": {
      "needs_background": "light"
     },
     "output_type": "display_data"
    }
   ],
   "source": [
    "n_examples = 10\n",
    "fig, axes = plt.subplots(nrows=1, ncols=n_examples, figsize=(n_examples, 1))\n",
    "\n",
    "for i in range(n_examples):\n",
    "    axes[i].imshow(mnist_train.data[i], cmap=\"gray\")\n",
    "    axes[i].axis('off')\n",
    "\n",
    "plt.show()\n",
    "\n"
   ]
  },
  {
   "cell_type": "code",
   "execution_count": 7,
   "metadata": {},
   "outputs": [],
   "source": [
    "batch_size = 128\n",
    "\n",
    "trainloader = torch.utils.data.DataLoader(mnist_train, batch_size=batch_size, shuffle=True, num_workers=1)\n",
    "testloader = torch.utils.data.DataLoader(mnist_test, batch_size=batch_size, shuffle=False, num_workers=1)"
   ]
  },
  {
   "cell_type": "code",
   "execution_count": 8,
   "metadata": {},
   "outputs": [
    {
     "data": {
      "text/plain": [
       "torch.Size([28, 28])"
      ]
     },
     "execution_count": 8,
     "metadata": {},
     "output_type": "execute_result"
    }
   ],
   "source": [
    "mnist_train.data[0].shape"
   ]
  },
  {
   "cell_type": "markdown",
   "metadata": {},
   "source": [
    "Dimensionality of images:"
   ]
  },
  {
   "cell_type": "code",
   "execution_count": 9,
   "metadata": {},
   "outputs": [],
   "source": [
    "d = 28\n",
    "D = d ** 2"
   ]
  },
  {
   "cell_type": "markdown",
   "metadata": {},
   "source": [
    "# Pyro RealNVP test"
   ]
  },
  {
   "cell_type": "markdown",
   "metadata": {},
   "source": [
    "## NF construction"
   ]
  },
  {
   "cell_type": "markdown",
   "metadata": {},
   "source": [
    "Latent distribution:"
   ]
  },
  {
   "cell_type": "code",
   "execution_count": 68,
   "metadata": {},
   "outputs": [],
   "source": [
    "pyro_base_distribution = pyro.distributions.Normal(\n",
    "    loc=torch.zeros((D,)).to(device),\n",
    "    scale=torch.ones((D,)).to(device)\n",
    ")"
   ]
  },
  {
   "cell_type": "markdown",
   "metadata": {},
   "source": [
    "We are going to stack a few coupling blocks:"
   ]
  },
  {
   "cell_type": "code",
   "execution_count": 69,
   "metadata": {},
   "outputs": [],
   "source": [
    "n_blocks = 5\n",
    "blocks = []\n",
    "for _ in range(n_blocks):\n",
    "    blocks.append(\n",
    "        pyro.distributions.transforms.affine_coupling(\n",
    "            input_dim=D,\n",
    "            hidden_dims=[D // 2, D // 2]\n",
    "        ).to(device)\n",
    "    )\n",
    "    blocks.append(\n",
    "        pyro.distributions.transforms.permute(\n",
    "            input_dim=D,\n",
    "            permutation=torch.from_numpy(np.random.permutation(D)).to(device)\n",
    "        )\n",
    "    )\n",
    "    blocks.append(\n",
    "        pyro.distributions.transforms.BatchNorm(\n",
    "            input_dim=D\n",
    "        ).to(device)\n",
    "    )"
   ]
  },
  {
   "cell_type": "code",
   "execution_count": 70,
   "metadata": {},
   "outputs": [],
   "source": [
    "pyro_transformed_distribution = pyro.distributions.TransformedDistribution(\n",
    "    base_distribution=pyro_base_distribution,\n",
    "    transforms=blocks\n",
    ")"
   ]
  },
  {
   "cell_type": "code",
   "execution_count": 71,
   "metadata": {},
   "outputs": [
    {
     "data": {
      "text/plain": [
       "torch.Size([2, 784])"
      ]
     },
     "execution_count": 71,
     "metadata": {},
     "output_type": "execute_result"
    }
   ],
   "source": [
    "pyro_transformed_distribution.sample((2,)).shape"
   ]
  },
  {
   "cell_type": "code",
   "execution_count": 72,
   "metadata": {},
   "outputs": [
    {
     "data": {
      "text/plain": [
       "tensor(6344.1436, device='cuda:1', grad_fn=<AddBackward0>)"
      ]
     },
     "execution_count": 72,
     "metadata": {},
     "output_type": "execute_result"
    }
   ],
   "source": [
    "pyro_transformed_distribution.log_prob(torch.zeros((D,)).to(device))"
   ]
  },
  {
   "cell_type": "markdown",
   "metadata": {},
   "source": [
    "## NF Training"
   ]
  },
  {
   "cell_type": "code",
   "execution_count": 73,
   "metadata": {},
   "outputs": [],
   "source": [
    "modules = torch.nn.ModuleList([b for i, b in enumerate(blocks) if i%3 != 1])\n",
    "optimizer = torch.optim.Adam(modules.parameters(),)# lr=1e-4, weight_decay=1e-5)\n",
    "n_epochs = 7"
   ]
  },
  {
   "cell_type": "code",
   "execution_count": 74,
   "metadata": {},
   "outputs": [
    {
     "data": {
      "application/vnd.jupyter.widget-view+json": {
       "model_id": "89d7e7969b8047bca86ef8ceedc738d9",
       "version_major": 2,
       "version_minor": 0
      },
      "text/plain": [
       "HBox(children=(HTML(value=''), FloatProgress(value=0.0, max=7.0), HTML(value='')))"
      ]
     },
     "metadata": {},
     "output_type": "display_data"
    },
    {
     "name": "stdout",
     "output_type": "stream",
     "text": [
      "\n"
     ]
    }
   ],
   "source": [
    "pbar = trange(n_epochs)\n",
    "losses = []\n",
    "for epoch in pbar:\n",
    "    for x_batch, _ in trainloader:\n",
    "        x_batch = x_batch.to(device)\n",
    "        optimizer.zero_grad()\n",
    "        loss = - pyro_transformed_distribution.log_prob(x_batch).mean()\n",
    "        loss.backward()\n",
    "        optimizer.step()\n",
    "\n",
    "        pyro_transformed_distribution.clear_cache()\n",
    "        \n",
    "        pbar.set_postfix_str(f\"loss = {loss.item():.3f}\")\n",
    "    losses.append(loss)"
   ]
  },
  {
   "cell_type": "code",
   "execution_count": 67,
   "metadata": {},
   "outputs": [
    {
     "data": {
      "text/plain": [
       "[tensor(1321.6934, device='cuda:1', grad_fn=<NegBackward>),\n",
       " tensor(1302.4893, device='cuda:1', grad_fn=<NegBackward>),\n",
       " tensor(1296.0135, device='cuda:1', grad_fn=<NegBackward>),\n",
       " tensor(1289.9678, device='cuda:1', grad_fn=<NegBackward>),\n",
       " tensor(1265.2670, device='cuda:1', grad_fn=<NegBackward>),\n",
       " tensor(1261.9404, device='cuda:1', grad_fn=<NegBackward>),\n",
       " tensor(1256.5835, device='cuda:1', grad_fn=<NegBackward>),\n",
       " tensor(1263.2568, device='cuda:1', grad_fn=<NegBackward>),\n",
       " tensor(9864.1016, device='cuda:1', grad_fn=<NegBackward>)]"
      ]
     },
     "execution_count": 67,
     "metadata": {},
     "output_type": "execute_result"
    }
   ],
   "source": [
    "losses"
   ]
  },
  {
   "cell_type": "markdown",
   "metadata": {},
   "source": [
    "## Generated examples"
   ]
  },
  {
   "cell_type": "code",
   "execution_count": 75,
   "metadata": {},
   "outputs": [],
   "source": [
    "n_examples = 10\n",
    "lambd = 1e-6\n",
    "generated_images = (\n",
    "    pyro_transformed_distribution\n",
    "    .sample((n_examples,))\n",
    "    .detach()\n",
    "    .cpu()\n",
    ")\n",
    "\n",
    "generated_images = (torch.sigmoid(generated_images) - lambd) / (1 - 2 * lambd)\n",
    "\n",
    "generated_images = (\n",
    "    generated_images\n",
    "    .view((n_examples, d, d))\n",
    "    .numpy()\n",
    ")"
   ]
  },
  {
   "cell_type": "code",
   "execution_count": 76,
   "metadata": {},
   "outputs": [
    {
     "data": {
      "image/png": "[encoded data removed]",
      "image/svg+xml": [
       "<?xml version=\"1.0\" encoding=\"utf-8\" standalone=\"no\"?>\n",
       "<!DOCTYPE svg PUBLIC \"-//W3C//DTD SVG 1.1//EN\"\n",
       "  \"http://www.w3.org/Graphics/SVG/1.1/DTD/svg11.dtd\">\n",
       "<!-- Created with matplotlib (https://matplotlib.org/) -->\n",
       "<svg height=\"108.976271pt\" version=\"1.1\" viewBox=\"0 0 1130.4 108.976271\" width=\"1130.4pt\" xmlns=\"http://www.w3.org/2000/svg\" xmlns:xlink=\"http://www.w3.org/1999/xlink\">\n",
       " <metadata>\n",
       "  <rdf:RDF xmlns:cc=\"http://creativecommons.org/ns#\" xmlns:dc=\"http://purl.org/dc/elements/1.1/\" xmlns:rdf=\"http://www.w3.org/1999/02/22-rdf-syntax-ns#\">\n",
       "   <cc:Work>\n",
       "    <dc:type rdf:resource=\"http://purl.org/dc/dcmitype/StillImage\"/>\n",
       "    <dc:date>2021-02-02T16:20:54.694865</dc:date>\n",
       "    <dc:format>image/svg+xml</dc:format>\n",
       "    <dc:creator>\n",
       "     <cc:Agent>\n",
       "      <dc:title>Matplotlib v3.3.2, https://matplotlib.org/</dc:title>\n",
       "     </cc:Agent>\n",
       "    </dc:creator>\n",
       "   </cc:Work>\n",
       "  </rdf:RDF>\n",
       " </metadata>\n",
       " <defs>\n",
       "  <style type=\"text/css\">*{stroke-linecap:butt;stroke-linejoin:round;}</style>\n",
       " </defs>\n",
       " <g id=\"figure_1\">\n",
       "  <g id=\"patch_1\">\n",
       "   <path d=\"M 0 108.976271 \n",
       "L 1130.4 108.976271 \n",
       "L 1130.4 0 \n",
       "L 0 0 \n",
       "z\n",
       "\" style=\"fill:none;\"/>\n",
       "  </g>\n",
       "  <g id=\"axes_1\">\n",
       "   <g clip-path=\"url(#p1bd1371699)\">\n",
       "    <image height=\"95\" id=\"imaged6f29e2b0a\" transform=\"scale(1 -1)translate(0 -95)\" width=\"95\" x=\"7.2\" xlink:href=\"data:image/png;base64,\n",
       "iVBORw0KGgoAAAANSUhEUgAAAF8AAABfCAYAAACOTBv1AAAFmklEQVR4nO2dyytvURTHz/l5M5B3pDzCRCGJkIGMUP4AmRkbGPEPGErKH2BgJJKYGZiIpMRMXlHIqxB5P+5s3bXWdfbdjvP7rePe9Rl9j7PP/m2rbf3W3mudzXUc58OJER8f9KNc1w20f9wf/6wwEpEewP+MGl8Q14mh2/mXCMLF6cwXRI0viBpfkHjTTVMoGMtQLiEhAfTLywtoPr4gxoT75P2XlpaC3t3d/XJ/jkPHqDNfEDW+INahZlxcHLl+e3v79odnZ2eDvry8tHomEvk9X97f3789hiDgrgWPi9/D1zrzBVHjC6LGFyTw7QXskx3H3i/7Wa7jENRxaBgaDXJzc0Gfn59/uz+d+YKo8QUhbicayY6kpCTQmZmZ5N7NzQ3o6elp0O3t7Z7jaGxsBH12dkbaYTe0vb1N7vkJS21DyKamJtJueXnZqn+d+YKo8QWxjnbi4+ke3Ovrq90HGFzX5OQk6KmpKdCzs7OkHV4JHx8fg66uribthoeHQXd2dpJ7W1tboIuKikAnJyeTdk9PT57j9SIjI4NcX11dWT2nM18QNb4ganxB3A8UX5r8s9/ERV5eHuiWlhZyb2Fh4dN7c3NzpF1qairorq4u0Ht7e6Td0dERaL767evrA93f3+/Zzg9fsY3uaoYENb4gMV3hrqyskHu1tbWgd3Z2QJeVlZF29/f3oAsKCkDzsLCqqspzHKurq6DxBhlP4vjJA/f09JDriYkJq+d05guixhdEjS9I1JMpGL6z6JUMz8rKIu1w4sJUV7O4uAgaf9c4zp87j159xBKd+YKo8QUxlgsaH0S7nHiHk7sWHE7OzMyQeyUlJZ8+l5aWRtqNjIyA7u3tBc13E3EJHy7tkyQxMZFcPz8/g9aZL4gaXxA3EolAtBON8ju8CuUlhnjDDMMTHA8PD6CXlpZA19XVeX7u7e0tuc7JyQGN3SSPiqJdgogjPJ35gqjxBVHjCxIfbR+HfS3f7fNa4T4+PpJ2eBVaX18Pem1tzbOdqYR9c3Pz08+NBerzQ4IaXxDrjTXbPKXxTQy26YZdA+6P94FXvHd3d55jwM81NzeTezhExfAVqG2ls74E/cNR4wuixhfEdV3XM4EeBK2traDX19fJPVwizgZFrg8ODkAXFxeDNo23srKSXLe1tYEeHR0FfXJyQtoVFhZa9W+LKVmjM18QNb4gvnc1bUMtnHThSRIvt8NfuMbjwjueeLfzb+CQ0lQGTs5GMOSjg0BnviBqfEF8b6zZRgI4cWF7XgNvh99AwZtiX6kOxrlTE9EuJdEjX0KCGl8QNb4gvut2/IB3JDnYF/JQE/t5HDKa/LipXmZ+fh50R0cHaTc4OAiaJ9f9vKmo5+2EFDW+IKE5URa7HV7Pc3p6Cjo9PR00zg87juNcXFx49o9X2jhhws9oqKioAN3Q0EDu4ZxxEJtuOvMFUeMLEni04/ekKbyq5Ue54MilpqYG9MbGBmmH36/Flc2OQ89vGBsbA81fZjPlnLGr2d/fB80rovFzfDMRlzHqzBdEjS+IGl+QwF+C5ufyeNXmmBgYGCDXQ0NDnv1j8vPzQV9fX5N7+IwdHK7ys3FwvthUw6Oh5g9HjS9IICtcU97T9OeJ25r6wK4LuwK+eVZeXg6ar1zDiM58QdT4gqjxBQlke8Fv0tlr64H/HCc1uru7Pdvh7wa+rE9JSQHtVS/0N/yEl/z7C39P6cwXRI0vSCChJi7h4y+zRRP+J43LB3kYincyDw8PQY+Pj5N2tv+7xe+bKdgd6swXRI0vSNRzuLgMxLZc0G9CBmNb9hFEeYgJ/Q9xIUWNL4gaX5DQ1O2EEb+Hd+NkjWk1rTNfEDW+INbn5xs7CeAcgqDx6zJMZ0B49f+V31mrlEOCGl8QNb4gxlAz7L7c75jC8nvpzBdEjS/ILy3cHRuL3vmeAAAAAElFTkSuQmCC\" y=\"-6.776271\"/>\n",
       "   </g>\n",
       "  </g>\n",
       "  <g id=\"axes_2\">\n",
       "   <g clip-path=\"url(#p177f463641)\">\n",
       "    <image height=\"95\" id=\"imagef35096940f\" transform=\"scale(1 -1)translate(0 -95)\" width=\"95\" x=\"120.691525\" xlink:href=\"data:image/png;base64,\n",
       "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\" y=\"-6.776271\"/>\n",
       "   </g>\n",
       "  </g>\n",
       "  <g id=\"axes_3\">\n",
       "   <g clip-path=\"url(#p4af4fde812)\">\n",
       "    <image height=\"95\" id=\"imaged25744f98b\" transform=\"scale(1 -1)translate(0 -95)\" width=\"95\" x=\"234.183051\" xlink:href=\"data:image/png;base64,\n",
       "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\" y=\"-6.776271\"/>\n",
       "   </g>\n",
       "  </g>\n",
       "  <g id=\"axes_4\">\n",
       "   <g clip-path=\"url(#p0392a28088)\">\n",
       "    <image height=\"95\" id=\"image8e06322585\" transform=\"scale(1 -1)translate(0 -95)\" width=\"95\" x=\"347.674576\" xlink:href=\"data:image/png;base64,\n",
       "iVBORw0KGgoAAAANSUhEUgAAAF8AAABfCAYAAACOTBv1AAAFhklEQVR4nO2duUtsSxCH61zHPTBQAwVxC0QDccFAEA0MRDPBWMUl8D8wMDAwUzASBUVNTc1FRE0MDUQDRVxBxMR9v8F7r151Md2353BmyuHWF/0O3edMT9FTU91d3ScAgG/wIAgC4/r7O/5trnr8HlqXatuzAQAyMjJQf35+Olr8M6Hf85dgO/561PiCBODpdtINXzfJyc/PR/34+Bhpmzja8wVR4wuixhfE8Plh/WTUVFdXG9fHx8ci7Ug22vMFUeMLkhahZiwWQ/3x8SHYkv9xjbSpu+aunKI9XxA1viBqfEFi9CJsqOk7I+mC+nLqTwEAamtrUR8eHqLu7Ow06m1sbMRtE29XFO3NzMxEzX2+y89TtOcLosYXxAg1fRc74tX1YW5uzrienZ1FXVdXh3p9fd3reQUFBcZ1Q0MD6q2trYTbBwCQl5eH+unpySjzDSF90Z4viBpfkCAIAqv/8F1L/fr68rqH/1TLy8tRn56eOhv6H3S0e3BwYJRVVFSgzs3Ntd73+vpqbVMYd+py1y605wuixhdEjS9I8E0cViLhUyrzZ2i7FhcXUc/MzBj1pqenUe/u7lrLom5v2P8N7fmCqPEFibkmmVxuKMxPl49IKWtra6i7urqMsqGhIdQjIyPWZ9A8m4WFBaPM1l6Xy6DhKYB9IScnJ8e4fn5+traRoj1fEDW+IGp8QZK+gE79Jvev7+/vce/hUwN06oH+b9AFDQCA+vp61Hd3d0bZ1dUVauq7+TMoNG8TwPxPoX7+5eXF+gzXf4r2fEHU+IKEdju+I1zqdoqLi42y6+vruPV4yNvS0oK6tbUVNV2MAQAoKipCfXt7a21TaWkpauqOosJ3jVh7viBqfEG83U7YyaPV1VXUAwMD1npZWVnWz6KLH9nZ2ajf3t6sz+PPoO6lpKTEWs9F1Fnb2vMFUeMLosYXJPbnKv8Q1t/R2UW+42R0dBT18vIy6r6+PqOeLUXc5a/56NlW1xkK/rL3zTCplPw+7fmCqPEFSenOFD6JRX+SdNTJN8DRnz8NSXmoSd2TK3PYlfZHy2pqaoyyo6MjiEciYbievfBDUOMLosYXxDvU9IWHZ+3t7aj5okNjYyPq+fl51HxnytnZGWrqyysrK416tGx7e9soa2trQ00Xa1wLITTlHMDu8xMJwzXU/CGo8QWJJNT0zf1pbm42yqamplB3d3ej7unpMerRHSI7Ozuo+Si2qakJ9cXFhVF2c3ODmq7NPjw8GPXGxsZQ89wfX3QxJQ1Q4wuS9BGu6ydYVlaG+vz8HDXdYQJgRjt0F0xYhoeHUff39xtlNCqio2mAcCmHHI12fghqfEHU+IKInrdDfSX15SsrK0Y9miLuC0/bpiNv+lmuEW6y0Z4viBpfkJSGmnxnCs3HoaNYPqFFNzvTUW0iIR51Q+Pj46gnJyet97iwuTHOxMSEcU1H9drzBVHjC/Jjoh26AYK7Anp8y8nJifV5rkOo6WdRd1dYWGjUu7+/dzf6X6I4/kV7viBqfEHU+ILEbKNMgATOjfEMu1zQHJnBwUGjjObxuNrU29uLuqqqyijr6OhAvb+/j5r7fJr7wxdaaLqjHvOV5qjxBYkk1HSFXb4uidbj6Sc01WNvbw81PewUwH9DXCrhKZJ0hK49XxA1viBqfEFivj7ZNYPI0/soNMTb3Ny01nN9Nk0fX1pasrbp8vISNd21KIntfAkA7fmiqPEFSWm6YCpf/eRqh2sHi++ukii+i/Z8QdT4gqTFq5ooUUziUSTfiqc9XxA1viBqfEEi9/m+r0ji174znr7p11HAR+5RH4CtPV8QNb4gxvn5fBFD6mXEycB3dOq7MEQJG/JqzxdEjS+IGl+QpE8v2M7KAUjtrhDXOT1SaM8XRI0vyG8bVxsLwpdNCwAAAABJRU5ErkJggg==\" y=\"-6.776271\"/>\n",
       "   </g>\n",
       "  </g>\n",
       "  <g id=\"axes_5\">\n",
       "   <g clip-path=\"url(#p443fa4dfe9)\">\n",
       "    <image height=\"95\" id=\"image53b6544f56\" transform=\"scale(1 -1)translate(0 -95)\" width=\"95\" x=\"461.166102\" xlink:href=\"data:image/png;base64,\n",
       "iVBORw0KGgoAAAANSUhEUgAAAF8AAABfCAYAAACOTBv1AAAFiElEQVR4nO2dyyt+XRTH9+Mu9xIpCZEBGSgZMTFAISNlIP+AjEz8BTIwkokiRcnIwGVgopSilFIokQGiyCVyv7yzZa3de9a7nec8zzq/37s+o+9p7/beZz37WWdf1tknYoz5NnHi+5tWFYlE4lV1KEmQbsD/GTW+IBGD3E5KSgpJfHt7cysEuQ/btTg3JIAyoq33N3Vz7XW9F+35gqjxBVHjC0J8PpvRp29MSPj5fb++vjzLxOXl5OSQfPf3907l/WlozxdEjS9IzN3O30piYiJo2/3ha+wmjaF2054viBpfEDW+IM4+ny0kjksDQdeFfbcxxnx+fjrl5fK5oj1fEDW+IMTt2H9jbjjlRUZGBq0AuYnHx0eShldRsbbzBUEQM+OLiwvQRUVF0bcp6hIU36jxBSFuh5vF5uXlkbTb21vQ3F8ap9luDbua19dX0DMzMyRfb28v6KqqKtCnp6ckX21tLeitrS2Stru7C7qmpga05D6y9nxB1PiCqPEFScJ+mPN/2MfbcEM3zueXlpaC3t7eBp2ZmemZr66uDnR2djbJt7m5Cbqnp4ekHRwcgMY+PxZgOyYnJ5M0HJSgPV8QNb4g7Aw36GFYamoquX54eABt/z0xz8/PoJeXl0H39fWRfE9PT6DtmTaeNeM9YdvFJSUlebYDwy3w4Xt5f3/3LEN7viBqfEHU+ILEdQO9oKCAXI+OjoIeHx8H3djYSPKNjIx4toNrI8arvdPT0+R6YWEB9N7eHkk7Pj72LN8P2vMFUeMLEsgeriv9/f3kemxs7KchjMtobm4Gvba2BtrvpggeCtpxNXj4OzU1RdIGBgZAu4bPc2jPF0SNL0hc3U5+fj65vrq6+mmIj9m0PSvmwjnwTNMOF8HgRby2tjaSNjk5+a/l2W13dYfa8wVR4wuixhfEt893jYPBfv7u7o6kYR/NzZjx5v3NzQ1oO3YGb8LjfMYY09HRAXp1dRU0N2Q8Pz8n19XV1aDte/GD9nxB1PiCsDsH3IaB63Dq+vraqXzM/Pw8ue7u7gbNRQrj8uzZ6fr6Omjsnurr60m+hoYG0LOzsyQt6DBG7fmCqPEFUeMLQoaa9gofjqV8eXnxVUFLSwvoo6Mjkua6OXF4eAgax2ra4OcSHloaY8zi4iLotLQ00PZ94eeGvZnObYZ7kZWVRa7xqqn2fEHU+ILEdVXTjqXp7OwEPTc3B9p2f3hYy8XEYJdhnx2Eh5d4uIrdgDHG7OzsgG5qaiJpQbwEh9GeL4gaX5BA3A7+i3MLVfbmx/7+PujKyspom0HgQl2wG8PuyBhj0tPTncr0+w6wnr0QEtT4gqjxBXGLh/6vQtBMkPP59tAQH+eFfSHeWDeGhhkODQ2BHh4e9qzLnlniMPPy8nLQ9pAUYz+j/MxwbfBzQ3u+IGp8QQKf4XKn0trDP3yNZ4+Dg4Mk38TEBGg8I7UXvj4+PkDbbgfPri8vL0GXlJSQfLh8/AaLMe4bSHqi7B+AGl+QuC6scbie4hTE0S2FhYWgKyoqSNrGxgbo3NxckobDRbj3l1tbW0GvrKyQNNx+7fmCqPEFUeML4vsl6LB/sICbneKVSzxjNsaYrq4u0HaIuB0+6Af1+SFBjS9IIEPN9vZ20EtLS9EWx26EFBcXgz47OyP5uJCQsKALayFBjS+IGl8Q56MdY96QAL47dXJyArqsrOzX9drE4v7xkoX2fEHU+ILE/IU4qc/ucefix9vVeKE9XxA1viCh2UwJ+stvYXEtHNrzBVHjC6LGF8TZ58cidM4PnC/HJ9YGsarpGoNkP0PwmRD4Oys22vMFUeMLEvlG/xnuC5ZsIUKz2Fi0w/V7Al71/qZu7fmCqPEFUeMLIrq8EJZnhRfcy9h+IafZRl2a4hs1viD/AFNnHas3TAyEAAAAAElFTkSuQmCC\" y=\"-6.776271\"/>\n",
       "   </g>\n",
       "  </g>\n",
       "  <g id=\"axes_6\">\n",
       "   <g clip-path=\"url(#p9e34fc23d4)\">\n",
       "    <image height=\"95\" id=\"image44efb49a66\" transform=\"scale(1 -1)translate(0 -95)\" width=\"95\" x=\"574.657627\" xlink:href=\"data:image/png;base64,\n",
       "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\" y=\"-6.776271\"/>\n",
       "   </g>\n",
       "  </g>\n",
       "  <g id=\"axes_7\">\n",
       "   <g clip-path=\"url(#p2dcbe6e192)\">\n",
       "    <image height=\"95\" id=\"image57eb674028\" transform=\"scale(1 -1)translate(0 -95)\" width=\"95\" x=\"688.149153\" xlink:href=\"data:image/png;base64,\n",
       "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\" y=\"-6.776271\"/>\n",
       "   </g>\n",
       "  </g>\n",
       "  <g id=\"axes_8\">\n",
       "   <g clip-path=\"url(#p4d3e5219f9)\">\n",
       "    <image height=\"95\" id=\"imageedbaabc755\" transform=\"scale(1 -1)translate(0 -95)\" width=\"95\" x=\"801.640678\" xlink:href=\"data:image/png;base64,\n",
       "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\" y=\"-6.776271\"/>\n",
       "   </g>\n",
       "  </g>\n",
       "  <g id=\"axes_9\">\n",
       "   <g clip-path=\"url(#pb3e180d1bd)\">\n",
       "    <image height=\"95\" id=\"imaged2774b0582\" transform=\"scale(1 -1)translate(0 -95)\" width=\"95\" x=\"915.132203\" xlink:href=\"data:image/png;base64,\n",
       "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\" y=\"-6.776271\"/>\n",
       "   </g>\n",
       "  </g>\n",
       "  <g id=\"axes_10\">\n",
       "   <g clip-path=\"url(#p0d3ecd50d9)\">\n",
       "    <image height=\"95\" id=\"imagec637b16494\" transform=\"scale(1 -1)translate(0 -95)\" width=\"95\" x=\"1028.623729\" xlink:href=\"data:image/png;base64,\n",
       "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\" y=\"-6.776271\"/>\n",
       "   </g>\n",
       "  </g>\n",
       " </g>\n",
       " <defs>\n",
       "  <clipPath id=\"p1bd1371699\">\n",
       "   <rect height=\"94.576271\" width=\"94.576271\" x=\"7.2\" y=\"7.2\"/>\n",
       "  </clipPath>\n",
       "  <clipPath id=\"p177f463641\">\n",
       "   <rect height=\"94.576271\" width=\"94.576271\" x=\"120.691525\" y=\"7.2\"/>\n",
       "  </clipPath>\n",
       "  <clipPath id=\"p4af4fde812\">\n",
       "   <rect height=\"94.576271\" width=\"94.576271\" x=\"234.183051\" y=\"7.2\"/>\n",
       "  </clipPath>\n",
       "  <clipPath id=\"p0392a28088\">\n",
       "   <rect height=\"94.576271\" width=\"94.576271\" x=\"347.674576\" y=\"7.2\"/>\n",
       "  </clipPath>\n",
       "  <clipPath id=\"p443fa4dfe9\">\n",
       "   <rect height=\"94.576271\" width=\"94.576271\" x=\"461.166102\" y=\"7.2\"/>\n",
       "  </clipPath>\n",
       "  <clipPath id=\"p9e34fc23d4\">\n",
       "   <rect height=\"94.576271\" width=\"94.576271\" x=\"574.657627\" y=\"7.2\"/>\n",
       "  </clipPath>\n",
       "  <clipPath id=\"p2dcbe6e192\">\n",
       "   <rect height=\"94.576271\" width=\"94.576271\" x=\"688.149153\" y=\"7.2\"/>\n",
       "  </clipPath>\n",
       "  <clipPath id=\"p4d3e5219f9\">\n",
       "   <rect height=\"94.576271\" width=\"94.576271\" x=\"801.640678\" y=\"7.2\"/>\n",
       "  </clipPath>\n",
       "  <clipPath id=\"pb3e180d1bd\">\n",
       "   <rect height=\"94.576271\" width=\"94.576271\" x=\"915.132203\" y=\"7.2\"/>\n",
       "  </clipPath>\n",
       "  <clipPath id=\"p0d3ecd50d9\">\n",
       "   <rect height=\"94.576271\" width=\"94.576271\" x=\"1028.623729\" y=\"7.2\"/>\n",
       "  </clipPath>\n",
       " </defs>\n",
       "</svg>\n"
      ],
      "text/plain": [
       "<Figure size 1440x2880 with 10 Axes>"
      ]
     },
     "metadata": {
      "needs_background": "light"
     },
     "output_type": "display_data"
    }
   ],
   "source": [
    "fig, axes = plt.subplots(nrows=1, ncols=n_examples, figsize=(20, 40))\n",
    "\n",
    "for i in range(n_examples):\n",
    "    axes[i].imshow(generated_images[i], cmap=\"gray\")\n",
    "    axes[i].axis('off')\n",
    "\n",
    "plt.show()"
   ]
  },
  {
   "cell_type": "markdown",
   "metadata": {},
   "source": [
    "# TFP Glow test"
   ]
  },
  {
   "cell_type": "markdown",
   "metadata": {},
   "source": [
    "## NF construction"
   ]
  },
  {
   "cell_type": "markdown",
   "metadata": {},
   "source": [
    "Latent distribution:"
   ]
  },
  {
   "cell_type": "code",
   "execution_count": null,
   "metadata": {},
   "outputs": [],
   "source": [
    "tf_base_distribution = tfd.Independent(\n",
    "    tfd.Normal(\n",
    "        loc=tf.zeros((d * d * 1,)),\n",
    "        scale=1\n",
    "    ),\n",
    "    reinterpreted_batch_ndims=1\n",
    ")"
   ]
  },
  {
   "cell_type": "markdown",
   "metadata": {},
   "source": [
    "Glow model:"
   ]
  },
  {
   "cell_type": "code",
   "execution_count": null,
   "metadata": {},
   "outputs": [],
   "source": [
    "glow = tfb.Glow(\n",
    "    output_shape=(d, d, 1),\n",
    "    num_glow_blocks=1,\n",
    "    num_steps_per_block=8,\n",
    "    coupling_bijector_fn=tfb.GlowDefaultNetwork,\n",
    "    exit_bijector_fn=tfb.GlowDefaultExitNetwork\n",
    ")"
   ]
  },
  {
   "cell_type": "code",
   "execution_count": null,
   "metadata": {},
   "outputs": [],
   "source": [
    "tf_transformed_distribution = tfd.TransformedDistribution(\n",
    "    tf_base_distribution,\n",
    "    glow\n",
    ")"
   ]
  },
  {
   "cell_type": "markdown",
   "metadata": {},
   "source": [
    "## Training"
   ]
  },
  {
   "cell_type": "code",
   "execution_count": null,
   "metadata": {},
   "outputs": [],
   "source": [
    "@tf.function\n",
    "def train_step(\n",
    "    optimizer,\n",
    "    target_sample\n",
    "):\n",
    "    with tf.GradientTape() as tape:\n",
    "        loss = -tf.reduce_mean(\n",
    "            tf_transformed_distribution.log_prob(\n",
    "                target_sample\n",
    "            )\n",
    "        )\n",
    "    \n",
    "    variables = glow.trainable_variables\n",
    "    gradients = tape.gradient(\n",
    "        loss,\n",
    "        variables\n",
    "    )\n",
    "\n",
    "    optimizer.apply_gradients(\n",
    "        zip(\n",
    "            gradients,\n",
    "            variables\n",
    "        )\n",
    "    )\n",
    "\n",
    "    return loss"
   ]
  },
  {
   "cell_type": "code",
   "execution_count": null,
   "metadata": {},
   "outputs": [],
   "source": [
    "# Training parameters\n",
    "optimizer = tf.keras.optimizers.Adam()\n",
    "n_epochs = 100"
   ]
  },
  {
   "cell_type": "code",
   "execution_count": null,
   "metadata": {},
   "outputs": [],
   "source": [
    "pbar = trange(n_epochs)\n",
    "for epoch in pbar:\n",
    "    for x_batch, _ in trainloader:\n",
    "        x_batch = x_batch.view(\n",
    "            (-1, d, d, 1)\n",
    "        ).numpy()\n",
    "\n",
    "        loss = train_step(\n",
    "            optimizer=optimizer,\n",
    "            target_sample=x_batch\n",
    "        )\n",
    "        \n",
    "    pbar.set_postfix_str(f\"loss = {loss:.3f}\")"
   ]
  },
  {
   "cell_type": "markdown",
   "metadata": {},
   "source": [
    "## Generated Images"
   ]
  },
  {
   "cell_type": "code",
   "execution_count": null,
   "metadata": {},
   "outputs": [],
   "source": [
    "n_examples = 3\n",
    "generated_images = tf.reshape(\n",
    "    tf_transformed_distribution.sample((n_examples,)),\n",
    "    (n_examples, d, d)\n",
    ")"
   ]
  },
  {
   "cell_type": "code",
   "execution_count": null,
   "metadata": {},
   "outputs": [],
   "source": [
    "for i in range(n_examples):\n",
    "    plt.imshow(generated_images[i], cmap=\"gray\")\n",
    "    plt.axis('off')\n",
    "    plt.show()"
   ]
  }
 ],
 "metadata": {
  "kernelspec": {
   "display_name": "Python 3",
   "language": "python",
   "name": "python3"
  },
  "language_info": {
   "codemirror_mode": {
    "name": "ipython",
    "version": 3
   },
   "file_extension": ".py",
   "mimetype": "text/x-python",
   "name": "python",
   "nbconvert_exporter": "python",
   "pygments_lexer": "ipython3",
   "version": "3.7.9"
  }
 },
 "nbformat": 4,
 "nbformat_minor": 2
}
