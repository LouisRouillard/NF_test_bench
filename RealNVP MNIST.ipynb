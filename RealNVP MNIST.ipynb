{
 "cells": [
  {
   "cell_type": "markdown",
   "metadata": {},
   "source": [
    "# Imports"
   ]
  },
  {
   "cell_type": "code",
   "execution_count": 1,
   "metadata": {},
   "outputs": [],
   "source": [
    "import os\n",
    "import numpy as np\n",
    "import pyro\n",
    "import torch\n",
    "import torch.distributions as td\n",
    "import torch.nn as nn\n",
    "import torch.nn.functional as F\n",
    "import torchvision\n",
    "\n",
    "from tqdm.auto import trange\n",
    "from matplotlib import pyplot as plt\n",
    "\n",
    "device = torch.device(\"cuda:0\" if torch.cuda.is_available() else \"cpu\")"
   ]
  },
  {
   "cell_type": "markdown",
   "metadata": {},
   "source": [
    "# MNIST data loading"
   ]
  },
  {
   "cell_type": "markdown",
   "metadata": {},
   "source": [
    "Data stored in ./data/MNIST"
   ]
  },
  {
   "cell_type": "code",
   "execution_count": 2,
   "metadata": {},
   "outputs": [],
   "source": [
    "os.makedirs(\"data\", exist_ok=True)"
   ]
  },
  {
   "cell_type": "code",
   "execution_count": 3,
   "metadata": {},
   "outputs": [],
   "source": [
    "transform = torchvision.transforms.Compose(\n",
    "    [\n",
    "        torchvision.transforms.ToTensor(),\n",
    "        torchvision.transforms.Lambda(lambd=torch.flatten)\n",
    "    ]\n",
    ")\n",
    "\n",
    "mnist_train = torchvision.datasets.MNIST(root=\"data\", download=True, transform=transform, train=True)\n",
    "mnist_test = torchvision.datasets.MNIST(root=\"data\", download=True, transform=transform, train=False)"
   ]
  },
  {
   "cell_type": "markdown",
   "metadata": {},
   "source": [
    "Sanity check for the data:"
   ]
  },
  {
   "cell_type": "code",
   "execution_count": 4,
   "metadata": {},
   "outputs": [
    {
     "data": {
      "image/png": "[encoded data removed]",
      "text/plain": [
       "<Figure size 360x72 with 5 Axes>"
      ]
     },
     "metadata": {
      "needs_background": "light"
     },
     "output_type": "display_data"
    }
   ],
   "source": [
    "n_examples = 5\n",
    "fig, axes = plt.subplots(nrows=1, ncols=n_examples, figsize=(n_examples, 1))\n",
    "\n",
    "for i in range(n_examples):\n",
    "    axes[i].imshow(mnist_train.data[i], cmap=\"gray\")\n",
    "    axes[i].axis('off')\n",
    "\n",
    "plt.show()"
   ]
  },
  {
   "cell_type": "code",
   "execution_count": 5,
   "metadata": {},
   "outputs": [],
   "source": [
    "batch_size = 128\n",
    "\n",
    "trainloader = torch.utils.data.DataLoader(mnist_train, batch_size=batch_size, shuffle=True, num_workers=1)\n",
    "testloader = torch.utils.data.DataLoader(mnist_test, batch_size=batch_size, shuffle=False, num_workers=1)"
   ]
  },
  {
   "cell_type": "code",
   "execution_count": 6,
   "metadata": {},
   "outputs": [
    {
     "data": {
      "text/plain": [
       "torch.Size([28, 28])"
      ]
     },
     "execution_count": 6,
     "metadata": {},
     "output_type": "execute_result"
    }
   ],
   "source": [
    "mnist_train.data[0].shape"
   ]
  },
  {
   "cell_type": "code",
   "execution_count": 7,
   "metadata": {},
   "outputs": [],
   "source": [
    "d = 28\n",
    "D = d ** 2"
   ]
  },
  {
   "cell_type": "markdown",
   "metadata": {},
   "source": [
    "# RealNVP "
   ]
  },
  {
   "cell_type": "markdown",
   "metadata": {},
   "source": [
    "### Manual (from tutorial on representation learning D3S)"
   ]
  },
  {
   "cell_type": "code",
   "execution_count": 8,
   "metadata": {},
   "outputs": [],
   "source": [
    "class InvertibleTransformation(nn.Module):\n",
    "    \"\"\"Single invertible transformation as a building block for our flow model.\n",
    "    Adapted from https://github.com/gebob19/introduction_to_normalizing_flows/blob/master/normalizing_flows.ipynb\n",
    "    \"\"\"\n",
    "    def __init__(self, input_dim, flip=False):\n",
    "        assert input_dim % 2 == 0\n",
    "        super().__init__()\n",
    "        self.k = input_dim // 2\n",
    "        self.flip = flip\n",
    "        self.mu_net = nn.Sequential(nn.Linear(self.k, self.k),\n",
    "                                   nn.Tanh(),\n",
    "                                   nn.Linear(self.k, self.k))\n",
    "        self.sigma_net = nn.Sequential(nn.Linear(self.k, self.k),\n",
    "                                   nn.Tanh(),\n",
    "                                   nn.Linear(self.k, self.k))\n",
    "        \n",
    "\n",
    "    def forward(self, x):\n",
    "        x1, x2 = x[:, :self.k], x[:, self.k:]\n",
    "        \n",
    "        if self.flip:\n",
    "            x1, x2 = x2, x1\n",
    "            \n",
    "        mu = self.mu_net(x1)\n",
    "        sigma = self.sigma_net(x1)\n",
    "        z1 = x1\n",
    "        z2 = mu + (x2 * torch.exp(sigma))\n",
    "        \n",
    "        if self.flip:\n",
    "            z1, z2 = z2, z1\n",
    "        \n",
    "        z = torch.cat([z1, z2], dim=-1)\n",
    "        log_jacobian = sigma.sum(-1)\n",
    "                \n",
    "        return z, log_jacobian\n",
    "    \n",
    "\n",
    "    def inverse(self, z):\n",
    "        z1, z2 = z[:, :self.k], z[:, self.k:]\n",
    "        \n",
    "        if self.flip:\n",
    "            z1, z2 = z2, z1\n",
    "            \n",
    "        mu = self.mu_net(z1)\n",
    "        sigma = self.sigma_net(z1)\n",
    "        x1 = z1\n",
    "        x2 = (z2 - mu) * torch.exp(-sigma)\n",
    "        \n",
    "        if self.flip:\n",
    "            x1, x2 = x2, x1\n",
    "            \n",
    "        x = torch.cat([x1, x2], dim=-1)\n",
    "        \n",
    "        return x"
   ]
  },
  {
   "cell_type": "code",
   "execution_count": 9,
   "metadata": {},
   "outputs": [],
   "source": [
    "class RealNVPManual(nn.Module):\n",
    "    \"\"\"A normalizing flow made of stacked invertible transformations.\"\"\"\n",
    "    def __init__(self, input_dim, depth=6, logit_space=False):\n",
    "        super().__init__()\n",
    "        self.alpha = 0.1\n",
    "        self.logit_space = logit_space\n",
    "        self.latent_dim = input_dim\n",
    "        self.prior = td.Normal(loc=0., scale=1.)\n",
    "        self.transformations = nn.ModuleList(\n",
    "                    [InvertibleTransformation(input_dim=input_dim, flip=(i%2))\n",
    "                    for i in range(depth)])\n",
    "        \n",
    "    def forward(self, x):\n",
    "        # for MNIST, we model the data in logit space\n",
    "        if self.logit_space:\n",
    "            x = x*(1.-self.alpha) + self.alpha*0.5\n",
    "            x = torch.log(x) - torch.log(1-x)\n",
    "        \n",
    "        log_jacobian = 0.\n",
    "        z = x\n",
    "        \n",
    "        for transform in self.transformations:\n",
    "            z, log_jac = transform(z)\n",
    "            log_jacobian += log_jac\n",
    "            \n",
    "        return z, log_jacobian\n",
    "    \n",
    "    def inverse(self, z):\n",
    "        x = z\n",
    "        \n",
    "        for transform in self.transformations[::-1]:\n",
    "            x = transform.inverse(x)\n",
    "            \n",
    "        if self.logit_space:\n",
    "            x = torch.reciprocal(1 + torch.exp(-x))\n",
    "            x = (x - (self.alpha*0.5)) / (1-self.alpha)\n",
    "        \n",
    "        return x\n",
    "    \n",
    "    def log_marginal_likelihood(self, x):\n",
    "        z, log_jacobian = self.forward(x)\n",
    "        log_prior = self.prior.log_prob(z)\n",
    "        return log_prior.sum() + log_jacobian.sum()\n",
    "    \n",
    "    def mll_loss(self, x):\n",
    "        batchsize = x.shape[0]\n",
    "        mll = - (self.log_marginal_likelihood(x) \n",
    "                            / (batchsize * self.latent_dim))\n",
    "        return mll"
   ]
  },
  {
   "cell_type": "code",
   "execution_count": 10,
   "metadata": {},
   "outputs": [],
   "source": [
    "flow_model = RealNVPManual(input_dim=D, depth=10, logit_space=True).to(device) "
   ]
  },
  {
   "cell_type": "code",
   "execution_count": 11,
   "metadata": {},
   "outputs": [],
   "source": [
    "num_epochs = 20\n",
    "learning_rate = 1e-5\n",
    "optimizer = torch.optim.Adam(flow_model.parameters(), lr=learning_rate)\n",
    "print_interval = 100"
   ]
  },
  {
   "cell_type": "code",
   "execution_count": 12,
   "metadata": {},
   "outputs": [
    {
     "data": {
      "application/vnd.jupyter.widget-view+json": {
       "model_id": "db29c9c0b655420bbce909d3e300cc6b",
       "version_major": 2,
       "version_minor": 0
      },
      "text/plain": [
       "HBox(children=(FloatProgress(value=0.0, max=20.0), HTML(value='')))"
      ]
     },
     "metadata": {},
     "output_type": "display_data"
    },
    {
     "name": "stdout",
     "output_type": "stream",
     "text": [
      "\n"
     ]
    }
   ],
   "source": [
    "pbar = trange(num_epochs)\n",
    "for epoch in pbar:\n",
    "    for i, (x_batch, _) in enumerate(trainloader):\n",
    "        x_batch = x_batch.to(device)\n",
    "        flow_model.zero_grad()\n",
    "        loss = flow_model.mll_loss(x_batch)\n",
    "        loss.backward()\n",
    "        optimizer.step()\n",
    "        \n",
    "        if i % print_interval == 0:\n",
    "            pbar.set_postfix_str(f\"loss = {loss.item():.3f}\")"
   ]
  },
  {
   "cell_type": "code",
   "execution_count": 13,
   "metadata": {},
   "outputs": [],
   "source": [
    "def plot_generations(model, num_samples=16):\n",
    "    \"\"\"Plot num_samples images generated from the latent space using the model.\"\"\"\n",
    "    z_sample = torch.randn(num_samples, model.latent_dim).to(device)\n",
    "    x_gen = model.inverse(z_sample).cpu().detach().numpy().reshape(-1,28,28)\n",
    "\n",
    "    fig, axes = plt.subplots(nrows=1, ncols=num_samples, figsize=(num_samples, 1))\n",
    "\n",
    "    for i in range(num_samples):\n",
    "        axes[i].imshow(x_gen[i], cmap=\"gray\")\n",
    "        axes[i].axis(\"off\")"
   ]
  },
  {
   "cell_type": "code",
   "execution_count": 14,
   "metadata": {},
   "outputs": [
    {
     "data": {
      "image/png": "[encoded data removed]",
      "text/plain": [
       "<Figure size 1152x72 with 16 Axes>"
      ]
     },
     "metadata": {
      "needs_background": "light"
     },
     "output_type": "display_data"
    }
   ],
   "source": [
    "plot_generations(flow_model)"
   ]
  },
  {
   "cell_type": "markdown",
   "metadata": {},
   "source": [
    "### Pyro"
   ]
  },
  {
   "cell_type": "code",
   "execution_count": 15,
   "metadata": {},
   "outputs": [],
   "source": [
    "pyro_base_distribution = pyro.distributions.Normal(\n",
    "    loc=torch.zeros((D,)).to(device),\n",
    "    scale=torch.ones((D,)).to(device),\n",
    ")\n",
    "\n",
    "n_blocks = 10\n",
    "blocks = []\n",
    "for _ in range(n_blocks):\n",
    "    blocks.append(\n",
    "        pyro.distributions.transforms.affine_coupling(\n",
    "            input_dim=D,\n",
    "            hidden_dims=[32, 32, 32],\n",
    "        ).to(device)\n",
    "    )\n",
    "    blocks.append(\n",
    "        pyro.distributions.transforms.permute(\n",
    "            input_dim=D,\n",
    "            permutation=torch.from_numpy(np.random.permutation(D)).to(device)\n",
    "        )\n",
    "    )\n",
    "    \n",
    "pyro_transformed_distribution = pyro.distributions.TransformedDistribution(\n",
    "    base_distribution=pyro_base_distribution,\n",
    "    transforms=blocks\n",
    ")"
   ]
  },
  {
   "cell_type": "code",
   "execution_count": 16,
   "metadata": {},
   "outputs": [],
   "source": [
    "modules = torch.nn.ModuleList([b for i, b in enumerate(blocks) if i%2 == 0])\n",
    "num_epochs = 10\n",
    "learning_rate = 1e-5\n",
    "optimizer = torch.optim.Adam(modules.parameters(), lr=learning_rate)\n",
    "print_interval = 100"
   ]
  },
  {
   "cell_type": "code",
   "execution_count": 17,
   "metadata": {},
   "outputs": [
    {
     "data": {
      "application/vnd.jupyter.widget-view+json": {
       "model_id": "bddcbf56a9b14544b28fa739c60a4b66",
       "version_major": 2,
       "version_minor": 0
      },
      "text/plain": [
       "HBox(children=(FloatProgress(value=0.0, max=10.0), HTML(value='')))"
      ]
     },
     "metadata": {},
     "output_type": "display_data"
    },
    {
     "name": "stdout",
     "output_type": "stream",
     "text": [
      "\n"
     ]
    }
   ],
   "source": [
    "pbar = trange(num_epochs)\n",
    "for epoch in pbar:\n",
    "    for i, (x_batch, _) in enumerate(trainloader):        \n",
    "        x_batch = x_batch.to(device)\n",
    "        optimizer.zero_grad()\n",
    "        loss = - pyro_transformed_distribution.log_prob(x_batch).mean()\n",
    "        loss.backward()\n",
    "        optimizer.step()\n",
    "\n",
    "        pyro_transformed_distribution.clear_cache()\n",
    "        \n",
    "        if i % print_interval == 0:\n",
    "            pbar.set_postfix_str(f\"loss = {loss.item():.3f}\")"
   ]
  },
  {
   "cell_type": "markdown",
   "metadata": {},
   "source": [
    "## Generated examples"
   ]
  },
  {
   "cell_type": "code",
   "execution_count": 18,
   "metadata": {},
   "outputs": [],
   "source": [
    "n_examples = 10\n",
    "generated_images = (\n",
    "    pyro_transformed_distribution\n",
    "    .sample((n_examples,))\n",
    "    .detach()\n",
    "    .view((n_examples, d, d))\n",
    "    .to(\"cpu\")\n",
    "    .numpy()\n",
    ")"
   ]
  },
  {
   "cell_type": "code",
   "execution_count": 19,
   "metadata": {},
   "outputs": [
    {
     "data": {
      "image/png": "[encoded data removed]",
      "text/plain": [
       "<Figure size 720x72 with 10 Axes>"
      ]
     },
     "metadata": {
      "needs_background": "light"
     },
     "output_type": "display_data"
    }
   ],
   "source": [
    "fig, axes = plt.subplots(nrows=1, ncols=n_examples, figsize=(n_examples, 1))\n",
    "\n",
    "for i in range(n_examples):\n",
    "    axes[i].imshow(generated_images[i], cmap=\"gray\")\n",
    "    axes[i].axis('off')\n",
    "    \n",
    "plt.show()"
   ]
  },
  {
   "cell_type": "code",
   "execution_count": null,
   "metadata": {},
   "outputs": [],
   "source": []
  }
 ],
 "metadata": {
  "kernelspec": {
   "display_name": "Python 3",
   "language": "python",
   "name": "python3"
  },
  "language_info": {
   "codemirror_mode": {
    "name": "ipython",
    "version": 3
   },
   "file_extension": ".py",
   "mimetype": "text/x-python",
   "name": "python",
   "nbconvert_exporter": "python",
   "pygments_lexer": "ipython3",
   "version": "3.7.6"
  }
 },
 "nbformat": 4,
 "nbformat_minor": 2
}
