{
 "cells": [
  {
   "cell_type": "markdown",
   "metadata": {},
   "source": [
    "# Imports"
   ]
  },
  {
   "cell_type": "code",
   "execution_count": 1,
   "metadata": {},
   "outputs": [],
   "source": [
    "import os\n",
    "import numpy as np\n",
    "import torchvision\n",
    "\n",
    "import torch\n",
    "import matplotlib.pyplot as plt\n",
    "\n",
    "import pyro\n",
    "import torch.distributions as td\n",
    "import torch.nn as nn\n",
    "import torch.nn.functional as F\n",
    "\n",
    "from tqdm.auto import trange\n",
    "\n",
    "device = torch.device(\"cuda:0\" if torch.cuda.is_available() else \"cpu\")"
   ]
  },
  {
   "cell_type": "markdown",
   "metadata": {},
   "source": [
    "# MNIST data loading"
   ]
  },
  {
   "cell_type": "markdown",
   "metadata": {},
   "source": [
    "Data stored in ./data/MNIST"
   ]
  },
  {
   "cell_type": "code",
   "execution_count": 2,
   "metadata": {},
   "outputs": [],
   "source": [
    "os.makedirs(\"data\", exist_ok=True)"
   ]
  },
  {
   "cell_type": "code",
   "execution_count": 3,
   "metadata": {},
   "outputs": [],
   "source": [
    "def uniform_quantization(img):\n",
    "    return (img*255+torch.rand(img.size()))/256\n",
    "\n",
    "def rescale_logit(img,lambd=1e-6):\n",
    "    ## logit space\n",
    "    return torch.logit(lambd+(1-2*lambd)*img)"
   ]
  },
  {
   "cell_type": "code",
   "execution_count": 4,
   "metadata": {},
   "outputs": [],
   "source": [
    "transform = torchvision.transforms.Compose([\n",
    "                torchvision.transforms.ToTensor(),\n",
    "                uniform_quantization,\n",
    "                rescale_logit,\n",
    "                torchvision.transforms.Lambda(lambd=torch.flatten)])\n",
    "\n",
    "mnist_train = torchvision.datasets.MNIST(root=\"data\", download=True, transform=transform, train=True)\n",
    "mnist_test = torchvision.datasets.MNIST(root=\"data\", download=True, transform=transform, train=False)"
   ]
  },
  {
   "cell_type": "markdown",
   "metadata": {},
   "source": [
    "Sanity check for the data:"
   ]
  },
  {
   "cell_type": "code",
   "execution_count": 5,
   "metadata": {},
   "outputs": [
    {
     "data": {
      "image/png": "[encoded data removed]",
      "text/plain": [
       "<Figure size 360x72 with 5 Axes>"
      ]
     },
     "metadata": {
      "needs_background": "light"
     },
     "output_type": "display_data"
    }
   ],
   "source": [
    "n_examples = 5\n",
    "fig, axes = plt.subplots(nrows=1, ncols=n_examples, figsize=(n_examples, 1))\n",
    "\n",
    "for i in range(n_examples):\n",
    "    axes[i].imshow(mnist_train.data[i], cmap=\"gray\")\n",
    "    axes[i].axis('off')\n",
    "\n",
    "plt.show()"
   ]
  },
  {
   "cell_type": "code",
   "execution_count": 6,
   "metadata": {},
   "outputs": [],
   "source": [
    "batch_size = 128\n",
    "\n",
    "trainloader = torch.utils.data.DataLoader(mnist_train, batch_size=batch_size, shuffle=True, num_workers=1)\n",
    "testloader = torch.utils.data.DataLoader(mnist_test, batch_size=batch_size, shuffle=False, num_workers=1)"
   ]
  },
  {
   "cell_type": "code",
   "execution_count": 7,
   "metadata": {},
   "outputs": [
    {
     "data": {
      "text/plain": [
       "torch.Size([28, 28])"
      ]
     },
     "execution_count": 7,
     "metadata": {},
     "output_type": "execute_result"
    }
   ],
   "source": [
    "mnist_train.data[0].shape"
   ]
  },
  {
   "cell_type": "code",
   "execution_count": 8,
   "metadata": {},
   "outputs": [],
   "source": [
    "d = 28\n",
    "D = d ** 2"
   ]
  },
  {
   "cell_type": "markdown",
   "metadata": {},
   "source": [
    "# RealNVP "
   ]
  },
  {
   "cell_type": "code",
   "execution_count": 9,
   "metadata": {},
   "outputs": [],
   "source": [
    "pyro_base_distribution = pyro.distributions.Normal(\n",
    "    loc=torch.zeros((D,)).to(device),\n",
    "    scale=torch.ones((D,)).to(device)\n",
    ")\n",
    "\n",
    "n_blocks = 5\n",
    "blocks = []\n",
    "for _ in range(n_blocks):\n",
    "    blocks.append(\n",
    "        pyro.distributions.transforms.affine_coupling(\n",
    "            input_dim=D,\n",
    "            hidden_dims=[D, D]\n",
    "        ).to(device)\n",
    "    )\n",
    "    blocks.append(\n",
    "        pyro.distributions.transforms.permute(\n",
    "            input_dim=D,\n",
    "            permutation=torch.from_numpy(np.random.permutation(D)).to(device)\n",
    "        )\n",
    "    )\n",
    "    blocks.append(\n",
    "        pyro.distributions.transforms.BatchNorm(\n",
    "            input_dim=D\n",
    "        ).to(device)\n",
    "    )\n",
    "    \n",
    "pyro_transformed_distribution = pyro.distributions.TransformedDistribution(\n",
    "    base_distribution=pyro_base_distribution,\n",
    "    transforms=blocks\n",
    ")"
   ]
  },
  {
   "cell_type": "code",
   "execution_count": 10,
   "metadata": {},
   "outputs": [],
   "source": [
    "modules = torch.nn.ModuleList([b for i, b in enumerate(blocks) if i%3 != 1])\n",
    "optimizer = torch.optim.Adam(modules.parameters(), lr=1e-4, weight_decay=1e-5)\n",
    "n_epochs = 10"
   ]
  },
  {
   "cell_type": "code",
   "execution_count": 11,
   "metadata": {},
   "outputs": [
    {
     "data": {
      "application/vnd.jupyter.widget-view+json": {
       "model_id": "6b72361a84c4486490cf98052c095092",
       "version_major": 2,
       "version_minor": 0
      },
      "text/plain": [
       "  0%|          | 0/10 [00:00<?, ?it/s]"
      ]
     },
     "metadata": {},
     "output_type": "display_data"
    }
   ],
   "source": [
    "pbar = trange(n_epochs)\n",
    "losses = []\n",
    "for epoch in pbar:\n",
    "    for x_batch, _ in trainloader:\n",
    "        x_batch = x_batch.to(device)\n",
    "        optimizer.zero_grad()\n",
    "        loss = - pyro_transformed_distribution.log_prob(x_batch).mean()\n",
    "        loss.backward()\n",
    "        optimizer.step()\n",
    "\n",
    "        pyro_transformed_distribution.clear_cache()\n",
    "        \n",
    "        pbar.set_postfix_str(f\"loss = {loss.item():.3f}\")\n",
    "    losses.append(loss)"
   ]
  },
  {
   "cell_type": "code",
   "execution_count": 12,
   "metadata": {},
   "outputs": [],
   "source": [
    "n_examples = 10\n",
    "lambd = 1e-6\n",
    "generated_images = (\n",
    "    pyro_transformed_distribution\n",
    "    .sample((n_examples,))\n",
    "    .detach()\n",
    "    .cpu()\n",
    ")\n",
    "\n",
    "generated_images = (torch.sigmoid(generated_images) - lambd) / (1 - 2 * lambd)\n",
    "\n",
    "generated_images = (\n",
    "    generated_images\n",
    "    .view((n_examples, d, d))\n",
    "    .numpy()\n",
    ")"
   ]
  },
  {
   "cell_type": "code",
   "execution_count": 13,
   "metadata": {},
   "outputs": [
    {
     "data": {
      "image/png": "[encoded data removed]",
      "text/plain": [
       "<Figure size 1440x2880 with 10 Axes>"
      ]
     },
     "metadata": {
      "needs_background": "light"
     },
     "output_type": "display_data"
    }
   ],
   "source": [
    "fig, axes = plt.subplots(nrows=1, ncols=n_examples, figsize=(20, 40))\n",
    "\n",
    "for i in range(n_examples):\n",
    "    axes[i].imshow(generated_images[i], cmap=\"gray\")\n",
    "    axes[i].axis('off')\n",
    "\n",
    "plt.show()"
   ]
  },
  {
   "cell_type": "code",
   "execution_count": null,
   "metadata": {},
   "outputs": [],
   "source": []
  }
 ],
 "metadata": {
  "kernelspec": {
   "display_name": "Python 3",
   "language": "python",
   "name": "python3"
  },
  "language_info": {
   "codemirror_mode": {
    "name": "ipython",
    "version": 3
   },
   "file_extension": ".py",
   "mimetype": "text/x-python",
   "name": "python",
   "nbconvert_exporter": "python",
   "pygments_lexer": "ipython3",
   "version": "3.7.9"
  }
 },
 "nbformat": 4,
 "nbformat_minor": 2
}
